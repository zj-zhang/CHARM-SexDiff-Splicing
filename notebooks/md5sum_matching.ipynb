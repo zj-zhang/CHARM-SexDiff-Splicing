{
 "cells": [
  {
   "cell_type": "markdown",
   "metadata": {},
   "source": [
    "# use md5sum to determine sample swapping\n",
    "\n",
    "2021.8.18, fzz"
   ]
  },
  {
   "cell_type": "markdown",
   "metadata": {},
   "source": [
    "## Workflow:\n",
    "1. get all md5sums for all fastqs in Rusty\n",
    "2. get all md5sums within snakemake pipeline (should be a subset of 1)\n",
    "3. use 1, pair files with the same md5\n",
    "4. use master v7 -> v9 to resolve the paired order\n",
    "6. map back to 2 to determine problematic sids\n",
    "5. report"
   ]
  },
  {
   "cell_type": "code",
   "execution_count": 1,
   "metadata": {},
   "outputs": [],
   "source": [
    "def get_sid(f):\n",
    "    sample_name_ele = os.path.basename(f).rstrip(\".fastq.gz\").split('_')\n",
    "    if sample_name_ele[-2].startswith(\"P\"):\n",
    "        sample_id = \"_\".join(sample_name_ele[:-2])\n",
    "        sample_id_w_plate = \"_\".join(sample_name_ele[:-1])\n",
    "    else:\n",
    "        sample_id = \"_\".join(sample_name_ele[:-1])\n",
    "        sample_id_w_plate = sample_id\n",
    "    return sample_id, sample_id_w_plate"
   ]
  },
  {
   "cell_type": "code",
   "execution_count": 2,
   "metadata": {},
   "outputs": [],
   "source": [
    "import pandas as pd\n",
    "import os\n",
    "from collections import defaultdict, Counter\n",
    "\n",
    "# read in md5, everything downloaded to Rusty as of Aug 18, 2021\n",
    "par_dir = '/mnt/ceph/users/zzhang/My-RNASeq-pipeline/NAVY_CHARM_20200816/md5sums'\n",
    "md5_files = [x for x in os.listdir(par_dir) if x.endswith('.md5')]\n",
    "md5_to_file = defaultdict(set)\n",
    "md5_to_sid = defaultdict(set)\n",
    "file_to_md5 = defaultdict(set)\n",
    "for f in md5_files:\n",
    "    with open(os.path.join(par_dir, f), 'r') as fh:\n",
    "        for line in fh:\n",
    "            ele = line.strip().split()\n",
    "            sid, sid_p = get_sid(ele[1])\n",
    "            md5_to_sid[ele[0]].add(sid_p)\n",
    "            md5_to_file[ele[0]].add(ele[1])\n",
    "            file_to_md5[sid_p].add(ele[0])\n"
   ]
  },
  {
   "cell_type": "raw",
   "metadata": {},
   "source": [
    "md5_to_file"
   ]
  },
  {
   "cell_type": "raw",
   "metadata": {},
   "source": [
    "[x for x in file_to_md5 if x.startswith('20_0208-T28_P12')]"
   ]
  },
  {
   "cell_type": "raw",
   "metadata": {},
   "source": [
    "file_to_md5['20_0208-T28_P12_1.fastq.gz']"
   ]
  },
  {
   "cell_type": "raw",
   "metadata": {},
   "source": [
    "[x for x in file_to_md5 if x.startswith('20_0195-T28')]"
   ]
  },
  {
   "cell_type": "raw",
   "metadata": {},
   "source": [
    "file_to_md5['20_0195-T28_1.fastq.gz']"
   ]
  },
  {
   "cell_type": "markdown",
   "metadata": {},
   "source": [
    "# Read in Metadata v7 and v9"
   ]
  },
  {
   "cell_type": "code",
   "execution_count": 3,
   "metadata": {},
   "outputs": [
    {
     "name": "stdout",
     "output_type": "stream",
     "text": [
      "(1176, 11)\n",
      "(1176, 11)\n",
      "(825, 11)\n",
      "(763, 11)\n"
     ]
    }
   ],
   "source": [
    "# read in meta_7 v7\n",
    "meta_7 = pd.read_table('/mnt/ceph/users/zzhang/jemm/data-V7/charm_master.clean.csv', index_col=0, sep=\",\", low_memory=False)\n",
    "print(meta_7.shape) \n",
    "meta_7 = meta_7[meta_7.plateNum.notna()]\n",
    "print(meta_7.shape)\n",
    "sero = pd.read_table('/mnt/ceph/users/zzhang/jemm/data-V7.p1/merged_seropos.20210814.txt', index_col=0)\n",
    "meta_7 = meta_7[meta_7.pid.isin(sero.query('fz_label==\"keep\"').pid)]\n",
    "print(meta_7.shape)\n",
    "meta_7 = meta_7[meta_7.final.isin(['Control', 'First', 'Mid', 'Post'])]\n",
    "print(meta_7.shape)"
   ]
  },
  {
   "cell_type": "code",
   "execution_count": 4,
   "metadata": {},
   "outputs": [
    {
     "data": {
      "text/plain": [
       "final    Sex\n",
       "Control  F       30\n",
       "         M      147\n",
       "First    F       28\n",
       "         M       34\n",
       "Mid      F       23\n",
       "         M      103\n",
       "Post     F       18\n",
       "         M      109\n",
       "dtype: int64"
      ]
     },
     "execution_count": 4,
     "metadata": {},
     "output_type": "execute_result"
    }
   ],
   "source": [
    "meta_7[['pid','Sex','final']].drop_duplicates().groupby(['final','Sex']).size()"
   ]
  },
  {
   "cell_type": "code",
   "execution_count": 5,
   "metadata": {},
   "outputs": [
    {
     "name": "stdout",
     "output_type": "stream",
     "text": [
      "(19604, 69)\n",
      "(1926, 69)\n",
      "(1470, 69)\n",
      "(1332, 69)\n"
     ]
    }
   ],
   "source": [
    "# read in meta_9 v9.1\n",
    "meta_9 = pd.read_table('/mnt/ceph/users/zzhang/jemm/data-V9/charm_master.csv', index_col=0, sep=\"\\t\", low_memory=False)\n",
    "print(meta_9.shape)  # 19604, 69\n",
    "meta_9 = meta_9[meta_9.RNAseq_plate.notna()] # 1926, 69\n",
    "print(meta_9.shape)\n",
    "sero = pd.read_table('/mnt/ceph/users/zzhang/jemm/data-V7.p1/merged_seropos.20210814.txt', index_col=0)\n",
    "meta_9 = meta_9[meta_9.pid.isin(sero.query('fz_label==\"keep\"').pid)] # 1470, 69\n",
    "print(meta_9.shape)\n",
    "meta_9 = meta_9[meta_9.final.isin(['Control', 'First', 'Mid', 'Post'])] # 1332, 69\n",
    "print(meta_9.shape)"
   ]
  },
  {
   "cell_type": "code",
   "execution_count": 6,
   "metadata": {},
   "outputs": [
    {
     "data": {
      "text/plain": [
       "final    Sex\n",
       "Control  F       38\n",
       "         M      232\n",
       "First    F       32\n",
       "         M       58\n",
       "Mid      F       26\n",
       "         M      177\n",
       "Post     F       25\n",
       "         M      176\n",
       "dtype: int64"
      ]
     },
     "execution_count": 6,
     "metadata": {},
     "output_type": "execute_result"
    }
   ],
   "source": [
    "meta_9[['pid','Sex','final']].drop_duplicates().groupby(['final','Sex']).size()"
   ]
  },
  {
   "cell_type": "code",
   "execution_count": 7,
   "metadata": {},
   "outputs": [],
   "source": [
    "redup = []\n",
    "sid_SampleMismatch = {}\n",
    "sid_TimeMismatch = {}\n",
    "for md5 in md5_to_sid:\n",
    "    if len(md5_to_sid[md5]) > 1:\n",
    "        redup.append(md5)\n",
    "        sids = [x for x in md5_to_sid[md5]]\n",
    "        sams = set([x.split('-')[0] for x in sids])\n",
    "        if len(sams) > 1:\n",
    "            sid_SampleMismatch[md5] = sids\n",
    "        elif len(set(sids)) > 1:\n",
    "            sid_TimeMismatch[md5] = sids"
   ]
  },
  {
   "cell_type": "code",
   "execution_count": 8,
   "metadata": {},
   "outputs": [
    {
     "data": {
      "text/plain": [
       "52"
      ]
     },
     "execution_count": 8,
     "metadata": {},
     "output_type": "execute_result"
    }
   ],
   "source": [
    "len(redup)"
   ]
  },
  {
   "cell_type": "code",
   "execution_count": 9,
   "metadata": {},
   "outputs": [
    {
     "data": {
      "text/plain": [
       "{'/mnt/ceph/users/zzhang/COVID/Navy_Charm_v7.20210120/delta_files/delta_fastq/20_0262-T42_P6_R1.fastq.gz',\n",
       " '/mnt/ceph/users/zzhang/COVID/gey01.u.hpc.mssm.edu/Covid19/RNA-seq/charm_fastq/P1_P8/20_0262-T40_R1.fastq.gz'}"
      ]
     },
     "execution_count": 9,
     "metadata": {},
     "output_type": "execute_result"
    }
   ],
   "source": [
    "md5_to_file[redup[0]]"
   ]
  },
  {
   "cell_type": "raw",
   "metadata": {},
   "source": [
    "md5_to_file['e2ab40a98a27a5d62387fcea5c92eea5']"
   ]
  },
  {
   "cell_type": "raw",
   "metadata": {},
   "source": [
    "md5_to_file['80e44897c28f564b00aefa0ab9d632dd']"
   ]
  },
  {
   "cell_type": "raw",
   "metadata": {},
   "source": [
    "file_to_md5['20_0628-T56']"
   ]
  },
  {
   "cell_type": "code",
   "execution_count": 10,
   "metadata": {
    "scrolled": false
   },
   "outputs": [
    {
     "data": {
      "text/plain": [
       "{'d29ac0b9c1a6102d0fb71914ebb4fcf4': ['20_0575-T49_P9', '20_0585-T49'],\n",
       " 'a594d22ac91d21dc798155a215299ecb': ['20_0575-T49_P9', '20_0585-T49'],\n",
       " 'c7044d7a2985c53518805c8e7b70e4c8': ['20_0625-T56_P10', '20_0627-T56'],\n",
       " 'b141c043e60590cea9c016488d436c03': ['20_0625-T56_P10', '20_0627-T56'],\n",
       " '5bb9b8fed491be2d72455572b4947a2f': ['20_0195-T28', '20_0208-T28_P5'],\n",
       " '51e7647114484231759772168740db11': ['20_0195-T28', '20_0208-T28_P5']}"
      ]
     },
     "execution_count": 10,
     "metadata": {},
     "output_type": "execute_result"
    }
   ],
   "source": [
    "sid_SampleMismatch"
   ]
  },
  {
   "cell_type": "code",
   "execution_count": 11,
   "metadata": {},
   "outputs": [],
   "source": [
    "def resolve_file_order(SampleMismatch, meta_7, meta_9):\n",
    "    #SampleMismatch = sid_SampleMismatch['c7044d7a2985c53518805c8e7b70e4c8']\n",
    "    sids = ['20_'+x.split('_')[1] if x.split('_')[-1].startswith('P') else x for x in SampleMismatch]\n",
    "    print([(x,y) for x, y in zip(sids, SampleMismatch)])\n",
    "    sids_7 = {y:'v7' if x in meta_7.index else '~v7' for x, y in zip(sids, SampleMismatch)}\n",
    "    sids_9 = {y:'v9' if x in meta_9.index else '~v9' for x, y in zip(sids, SampleMismatch)}\n",
    "\n",
    "    print(sids_7, sids_9)\n",
    "    return"
   ]
  },
  {
   "cell_type": "code",
   "execution_count": 12,
   "metadata": {},
   "outputs": [
    {
     "name": "stdout",
     "output_type": "stream",
     "text": [
      "[('20_0195-T28', '20_0195-T28'), ('20_0208-T28', '20_0208-T28_P5')]\n",
      "{'20_0195-T28': '~v7', '20_0208-T28_P5': '~v7'} {'20_0195-T28': '~v9', '20_0208-T28_P5': '~v9'}\n"
     ]
    }
   ],
   "source": [
    "resolve_file_order(sid_SampleMismatch['5bb9b8fed491be2d72455572b4947a2f'], meta_7, meta_9)"
   ]
  },
  {
   "cell_type": "code",
   "execution_count": 13,
   "metadata": {},
   "outputs": [
    {
     "data": {
      "text/plain": [
       "{'a45fa254dd09aed606ef849ce0955669': ['20_0262-T42_P6', '20_0262-T40'],\n",
       " '128c31f3949bec1ea7b3b4810d169ad6': ['20_0262-T42_P6', '20_0262-T40'],\n",
       " '8fdbe55003cb4a3363a73402924ad17d': ['20_0267-T39_P13', '20_0267-T40_P13'],\n",
       " '5861ca77986dc2189968ff2f5cbb59a8': ['20_0267-T39_P13', '20_0267-T40_P13'],\n",
       " 'fec82805ca07ca1331f1c0c8cf9390be': ['20_0267-T40_P6',\n",
       "  '20_0267-T04',\n",
       "  '20_0267-T39_P6'],\n",
       " 'dff709fee605b61107f78e83f5449aa3': ['20_0267-T40_P6',\n",
       "  '20_0267-T04',\n",
       "  '20_0267-T39_P6'],\n",
       " '3616a273fb462d4715177ee1afe0a1e3': ['20_0267-T42_P6', '20_0267-T07'],\n",
       " '6fe0c4ee65ab7483840208587a4ea239': ['20_0267-T42_P6', '20_0267-T07'],\n",
       " '0d3c9e9dfe6b802b62de4ef25bc127ad': ['20_0267-T46_P7', '20_0267-T10'],\n",
       " '644f7d9bd941025fdeecffefb558b64d': ['20_0267-T46_P7', '20_0267-T10'],\n",
       " 'd7d9229c2c9c1e29d36afd2793c6d8a4': ['20_0811-T13', '20_0811-T14_P5'],\n",
       " 'cc667a7438b3f6890906834bb9d71810': ['20_0811-T13', '20_0811-T14_P5'],\n",
       " 'e2247798391ed663188166f26b79c597': ['20_0813-T14_P5', '20_0813-T13'],\n",
       " '75a8aee5d1c63b0089eedafa68ed21a6': ['20_0813-T14_P5', '20_0813-T13'],\n",
       " '8a754cbed8ce4644d1d1364e53320126': ['20_0867-T17', '20_0867-T14_P8'],\n",
       " '7ca0227112f147df4e29ddeac8f4634b': ['20_0867-T17', '20_0867-T14_P8'],\n",
       " '84724cb17353aaaf66e3976b74809861': ['20_0255-T39_P7', '20_0255-T37'],\n",
       " 'e864f6db1c8ba16741d1b1d7b842dbcc': ['20_0255-T39_P7', '20_0255-T37'],\n",
       " '364d9341e30eb87d23aedf6ebee97201': ['20_0262-T39_P6', '20_0262-T37'],\n",
       " 'a45fcbec1e82821b127fc10adb254f67': ['20_0262-T39_P6', '20_0262-T37'],\n",
       " '1fa265621419392815c342403bcc4dc7': ['20_0866-T17_P14', '20_0866-T14_P14'],\n",
       " 'd92cddd6dabf5a243b78b888084579b8': ['20_0866-T17_P14', '20_0866-T14_P14'],\n",
       " 'dbc6a66bd2cb832e2b178bf0f6295621': ['20_0170-T37', '20_0170-T39_P6'],\n",
       " 'a2ad5a695e779e98671716decf78334a': ['20_0170-T37', '20_0170-T39_P6'],\n",
       " '98f27eb8614884eb1e65e52b0c751a8c': ['20_0170-T42_P6', '20_0170-T40'],\n",
       " '2587f5ee57a79244ecec01b90fd15cff': ['20_0170-T42_P6', '20_0170-T40'],\n",
       " 'd9544031d4ff3d5950c19b7cd7f53fd2': ['20_1005-T07_P6', '20_1005-T08'],\n",
       " '1359f075232b897ab56e3c8558c08e8f': ['20_1005-T07_P6', '20_1005-T08'],\n",
       " 'c669e2f8f044a48d5aa3d3a36e224619': ['20_1006-T07_P6', '20_1006-T08'],\n",
       " 'f336eaadffbf2f0874bab6e154dd1560': ['20_1006-T07_P6', '20_1006-T08'],\n",
       " '2a4c11f16e33e46f489e5d0718ccff02': ['20_0207-T40_P6',\n",
       "  '20_0207-T04',\n",
       "  '20_0207-T39_P6'],\n",
       " '1384624bd58dd3437680458587384d41': ['20_0207-T40_P6',\n",
       "  '20_0207-T04',\n",
       "  '20_0207-T39_P6'],\n",
       " 'c05bb3014787750a09b25f3cef9a1f15': ['20_0207-T07', '20_0207-T42_P6'],\n",
       " 'ced600ab6af7e82634e596825910aed8': ['20_0207-T07', '20_0207-T42_P6'],\n",
       " '6dcb3f3e815349b31f820cc0bc18f873': ['20_0212-T39_P6', '20_0212-T37'],\n",
       " '4356f4bdb83a8ad258bae50abe0d1982': ['20_0212-T39_P6', '20_0212-T37'],\n",
       " 'f6b0ca553ea5eea853d9a5e001f48ea0': ['20_0217-T39_P6', '20_0217-T37'],\n",
       " '49fdc75643a5f495033939f7fe5effee': ['20_0217-T39_P6', '20_0217-T37'],\n",
       " '741e99e9c0c0914cb07d23be9ef4705b': ['20_0217-T42_P6', '20_0217-T40'],\n",
       " 'f174d28bdb9b3f4c94640ab79a05a36c': ['20_0217-T42_P6', '20_0217-T40'],\n",
       " '43f307e9d306da9f8b6198669b61465d': ['20_0546-T24_P6', '20_0546-T23'],\n",
       " '4ecc26d2dc5f7cb8796997fcfddbdad8': ['20_0546-T24_P6', '20_0546-T23'],\n",
       " 'f82c2dd1fbfcf343fd79e11bf7af951e': ['20_0207-T46_P12', '20_0207-T10_P12'],\n",
       " '05f6ad7acf0655f24161fe03c945ab41': ['20_0207-T46_P12', '20_0207-T10_P12'],\n",
       " '513a7811040b20f6572d9af7ffeef51a': ['20_0207-T39_P12', '20_0207-T40_P12'],\n",
       " 'e4b7e96e014e08b4591f8ab0b16b983e': ['20_0207-T39_P12', '20_0207-T40_P12']}"
      ]
     },
     "execution_count": 13,
     "metadata": {},
     "output_type": "execute_result"
    }
   ],
   "source": [
    "sid_TimeMismatch"
   ]
  },
  {
   "cell_type": "code",
   "execution_count": null,
   "metadata": {},
   "outputs": [],
   "source": []
  }
 ],
 "metadata": {
  "kernelspec": {
   "display_name": "Python 3",
   "language": "python",
   "name": "python3"
  },
  "language_info": {
   "codemirror_mode": {
    "name": "ipython",
    "version": 3
   },
   "file_extension": ".py",
   "mimetype": "text/x-python",
   "name": "python",
   "nbconvert_exporter": "python",
   "pygments_lexer": "ipython3",
   "version": "3.6.10"
  }
 },
 "nbformat": 4,
 "nbformat_minor": 4
}
