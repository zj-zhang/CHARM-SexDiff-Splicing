{
 "cells": [
  {
   "cell_type": "markdown",
   "metadata": {},
   "source": [
    "# Exclusion of seropositive samples"
   ]
  },
  {
   "cell_type": "code",
   "execution_count": 1,
   "metadata": {},
   "outputs": [
    {
     "name": "stdout",
     "output_type": "stream",
     "text": [
      "START: 2021-08-18 19:06:56.286755\n",
      "Simons Foundation, Rusty HPC, worker1024\n"
     ]
    }
   ],
   "source": [
    "from datetime import datetime; print(\"START:\", datetime.now())\n",
    "import socket; print(\"Simons Foundation, Rusty HPC,\", socket.gethostname())"
   ]
  },
  {
   "cell_type": "code",
   "execution_count": 2,
   "metadata": {},
   "outputs": [
    {
     "name": "stdout",
     "output_type": "stream",
     "text": [
      "/mnt/ceph/users/zzhang/jemm\n"
     ]
    }
   ],
   "source": [
    "%cd /mnt/home/zzhang/ceph/jemm\n",
    "%load_ext rpy2.ipython"
   ]
  },
  {
   "cell_type": "code",
   "execution_count": 3,
   "metadata": {},
   "outputs": [],
   "source": [
    "import os\n",
    "from tqdm import tqdm\n",
    "import pickle\n",
    "import pandas as pd\n",
    "import numpy as np\n",
    "from multiprocessing import Pool\n",
    "from jemm import rmats_helper, suppa_helper\n",
    "from jemm import kallisto_helper\n",
    "from jemm.junction import JunctionCountTable\n",
    "from jemm.transcript import TranscriptMeasureTable"
   ]
  },
  {
   "cell_type": "code",
   "execution_count": 4,
   "metadata": {},
   "outputs": [
    {
     "name": "stdout",
     "output_type": "stream",
     "text": [
      "(19317, 69)\n"
     ]
    }
   ],
   "source": [
    "meta = pd.read_table('./data-V9/charm_master.csv', sep=\"\\t\", low_memory=False, index_col=0)\n",
    "meta = meta[meta.pid > 148]\n",
    "meta = meta[meta.Sex.isin(['F', 'M'])]\n",
    "print(meta.shape)"
   ]
  },
  {
   "cell_type": "code",
   "execution_count": 5,
   "metadata": {},
   "outputs": [],
   "source": [
    "df_gen = {x[0]: x[1].sort_values('tp') for x in meta.groupby('pid')}"
   ]
  },
  {
   "cell_type": "code",
   "execution_count": 6,
   "metadata": {},
   "outputs": [],
   "source": [
    "RBD_RATIO_CUTOFF = 1\n",
    "BEFORE_INFECT_CUTOFF = 0\n",
    "\n",
    "def check_is_exclusion(df):\n",
    "    # exclude high T0 IgG RBD screening ELISA, if present\n",
    "    if df.iloc[0]['tp']==0 and pd.notna(df.iloc[0]['IgG']):\n",
    "        if df.iloc[0]['IgG'] > RBD_RATIO_CUTOFF:\n",
    "            return 'excl', 'Has T0 pos IgG'\n",
    "        else:\n",
    "            return 'keep', 'Has T0 neg IgG'\n",
    "    \n",
    "    # if no T0, exclude if no valid serology\n",
    "    sero_df = df[df['IgG'].notna()]\n",
    "    if len(sero_df) == 0:\n",
    "        return 'excl', 'No valid IgG'\n",
    "    \n",
    "    # if w/ valid serology, exclude if close to infection\n",
    "    # infection timepoint\n",
    "    infect_tp = df.loc[df['final']==\"First\", 'tp'].to_list()\n",
    "    # if never infected, first sero needs to be low\n",
    "    if len(infect_tp) == 0:\n",
    "        if sero_df.iloc[0]['IgG'] < RBD_RATIO_CUTOFF:\n",
    "            return 'keep', 'Never PCR+, First IgG low'\n",
    "        else:\n",
    "            return 'excl', 'Never PCR+, First IgG high'\n",
    "        \n",
    "    assert len(infect_tp) == 1, \"multiple first for %s\" % df.iloc[0].pid\n",
    "    infect_tp = infect_tp[0]\n",
    "    \n",
    "    # if w/ valid serology, exclude if the First valid serology is high before infection\n",
    "    if infect_tp - sero_df.iloc[0]['tp'] > BEFORE_INFECT_CUTOFF:\n",
    "        if sero_df.iloc[0]['IgG'] > RBD_RATIO_CUTOFF:\n",
    "            return 'excl', 'First IgG high before infection'\n",
    "        else:\n",
    "            return 'keep', 'First IgG low before infection'\n",
    "    else:\n",
    "        return 'excl', 'First IgG too close to infection'\n",
    "        "
   ]
  },
  {
   "cell_type": "code",
   "execution_count": 7,
   "metadata": {},
   "outputs": [],
   "source": [
    "excl_df = {\n",
    "    pid : check_is_exclusion(df_gen[pid])\n",
    "    for pid in df_gen\n",
    "}"
   ]
  },
  {
   "cell_type": "code",
   "execution_count": 8,
   "metadata": {},
   "outputs": [],
   "source": [
    "excl_df = pd.DataFrame.from_dict(excl_df, orient='index', columns=['fz_label', 'fz_reason'])"
   ]
  },
  {
   "cell_type": "code",
   "execution_count": 9,
   "metadata": {},
   "outputs": [
    {
     "name": "stdout",
     "output_type": "stream",
     "text": [
      "3326\n"
     ]
    }
   ],
   "source": [
    "print(len(excl_df.index.unique()))"
   ]
  },
  {
   "cell_type": "markdown",
   "metadata": {},
   "source": [
    "# Compare with NS, YG"
   ]
  },
  {
   "cell_type": "code",
   "execution_count": 10,
   "metadata": {},
   "outputs": [
    {
     "name": "stdout",
     "output_type": "stream",
     "text": [
      "3326\n"
     ]
    }
   ],
   "source": [
    "ns_1 = pd.read_table('data-V7.p1/NS.charm_pids_to_keep.txt')\n",
    "ns_1['ns_label'] = 'keep'\n",
    "ns_2 = pd.read_table('data-V7.p1/NS.charm_pids_to_exclude.txt')\n",
    "ns_2['ns_label'] = 'excl'\n",
    "ns = pd.concat([ns_1, ns_2], axis=0)\n",
    "ns.index = ns.pid\n",
    "print(len(ns['pid'].unique()))"
   ]
  },
  {
   "cell_type": "code",
   "execution_count": 11,
   "metadata": {},
   "outputs": [
    {
     "name": "stdout",
     "output_type": "stream",
     "text": [
      "3326\n"
     ]
    }
   ],
   "source": [
    "yg_1 = pd.read_table('data-V7.p1/YG.charm_pids_to_keep.txt')\n",
    "yg_1['yg_label'] = 'keep'\n",
    "yg_2 = pd.read_table('data-V7.p1/YG.charm_pids_to_exclude.txt')\n",
    "yg_2['yg_label'] = 'excl'\n",
    "yg = pd.concat([yg_1, yg_2], axis=0)\n",
    "yg.index = yg.pid\n",
    "yg.rename(columns={'exclude_reason': 'yg_reason'}, inplace=True)\n",
    "print(len(yg['pid'].unique()))"
   ]
  },
  {
   "cell_type": "code",
   "execution_count": 12,
   "metadata": {},
   "outputs": [],
   "source": [
    "merged = excl_df.join(ns).join(yg[['yg_label', 'yg_reason']])"
   ]
  },
  {
   "cell_type": "code",
   "execution_count": 13,
   "metadata": {},
   "outputs": [
    {
     "data": {
      "text/html": [
       "<div>\n",
       "<style scoped>\n",
       "    .dataframe tbody tr th:only-of-type {\n",
       "        vertical-align: middle;\n",
       "    }\n",
       "\n",
       "    .dataframe tbody tr th {\n",
       "        vertical-align: top;\n",
       "    }\n",
       "\n",
       "    .dataframe thead th {\n",
       "        text-align: right;\n",
       "    }\n",
       "</style>\n",
       "<table border=\"1\" class=\"dataframe\">\n",
       "  <thead>\n",
       "    <tr style=\"text-align: right;\">\n",
       "      <th></th>\n",
       "      <th>fz_label</th>\n",
       "      <th>fz_reason</th>\n",
       "      <th>pid</th>\n",
       "      <th>ns_label</th>\n",
       "      <th>yg_label</th>\n",
       "      <th>yg_reason</th>\n",
       "    </tr>\n",
       "  </thead>\n",
       "  <tbody>\n",
       "    <tr>\n",
       "      <th>149</th>\n",
       "      <td>keep</td>\n",
       "      <td>Has T0 neg IgG</td>\n",
       "      <td>149</td>\n",
       "      <td>keep</td>\n",
       "      <td>keep</td>\n",
       "      <td>NaN</td>\n",
       "    </tr>\n",
       "    <tr>\n",
       "      <th>150</th>\n",
       "      <td>keep</td>\n",
       "      <td>Has T0 neg IgG</td>\n",
       "      <td>150</td>\n",
       "      <td>keep</td>\n",
       "      <td>keep</td>\n",
       "      <td>NaN</td>\n",
       "    </tr>\n",
       "    <tr>\n",
       "      <th>151</th>\n",
       "      <td>keep</td>\n",
       "      <td>Has T0 neg IgG</td>\n",
       "      <td>151</td>\n",
       "      <td>keep</td>\n",
       "      <td>keep</td>\n",
       "      <td>NaN</td>\n",
       "    </tr>\n",
       "    <tr>\n",
       "      <th>152</th>\n",
       "      <td>keep</td>\n",
       "      <td>Has T0 neg IgG</td>\n",
       "      <td>152</td>\n",
       "      <td>keep</td>\n",
       "      <td>keep</td>\n",
       "      <td>NaN</td>\n",
       "    </tr>\n",
       "    <tr>\n",
       "      <th>153</th>\n",
       "      <td>keep</td>\n",
       "      <td>Has T0 neg IgG</td>\n",
       "      <td>153</td>\n",
       "      <td>keep</td>\n",
       "      <td>keep</td>\n",
       "      <td>NaN</td>\n",
       "    </tr>\n",
       "    <tr>\n",
       "      <th>...</th>\n",
       "      <td>...</td>\n",
       "      <td>...</td>\n",
       "      <td>...</td>\n",
       "      <td>...</td>\n",
       "      <td>...</td>\n",
       "      <td>...</td>\n",
       "    </tr>\n",
       "    <tr>\n",
       "      <th>3475</th>\n",
       "      <td>keep</td>\n",
       "      <td>Has T0 neg IgG</td>\n",
       "      <td>3475</td>\n",
       "      <td>keep</td>\n",
       "      <td>keep</td>\n",
       "      <td>NaN</td>\n",
       "    </tr>\n",
       "    <tr>\n",
       "      <th>3476</th>\n",
       "      <td>keep</td>\n",
       "      <td>Has T0 neg IgG</td>\n",
       "      <td>3476</td>\n",
       "      <td>keep</td>\n",
       "      <td>keep</td>\n",
       "      <td>NaN</td>\n",
       "    </tr>\n",
       "    <tr>\n",
       "      <th>3477</th>\n",
       "      <td>keep</td>\n",
       "      <td>Has T0 neg IgG</td>\n",
       "      <td>3477</td>\n",
       "      <td>keep</td>\n",
       "      <td>keep</td>\n",
       "      <td>NaN</td>\n",
       "    </tr>\n",
       "    <tr>\n",
       "      <th>3478</th>\n",
       "      <td>keep</td>\n",
       "      <td>Has T0 neg IgG</td>\n",
       "      <td>3478</td>\n",
       "      <td>keep</td>\n",
       "      <td>keep</td>\n",
       "      <td>NaN</td>\n",
       "    </tr>\n",
       "    <tr>\n",
       "      <th>3479</th>\n",
       "      <td>excl</td>\n",
       "      <td>Has T0 pos IgG</td>\n",
       "      <td>3479</td>\n",
       "      <td>excl</td>\n",
       "      <td>excl</td>\n",
       "      <td>IgG Pos at T0</td>\n",
       "    </tr>\n",
       "  </tbody>\n",
       "</table>\n",
       "<p>3326 rows × 6 columns</p>\n",
       "</div>"
      ],
      "text/plain": [
       "     fz_label       fz_reason   pid ns_label yg_label      yg_reason\n",
       "149      keep  Has T0 neg IgG   149     keep     keep            NaN\n",
       "150      keep  Has T0 neg IgG   150     keep     keep            NaN\n",
       "151      keep  Has T0 neg IgG   151     keep     keep            NaN\n",
       "152      keep  Has T0 neg IgG   152     keep     keep            NaN\n",
       "153      keep  Has T0 neg IgG   153     keep     keep            NaN\n",
       "...       ...             ...   ...      ...      ...            ...\n",
       "3475     keep  Has T0 neg IgG  3475     keep     keep            NaN\n",
       "3476     keep  Has T0 neg IgG  3476     keep     keep            NaN\n",
       "3477     keep  Has T0 neg IgG  3477     keep     keep            NaN\n",
       "3478     keep  Has T0 neg IgG  3478     keep     keep            NaN\n",
       "3479     excl  Has T0 pos IgG  3479     excl     excl  IgG Pos at T0\n",
       "\n",
       "[3326 rows x 6 columns]"
      ]
     },
     "execution_count": 13,
     "metadata": {},
     "output_type": "execute_result"
    }
   ],
   "source": [
    "merged"
   ]
  },
  {
   "cell_type": "code",
   "execution_count": 14,
   "metadata": {},
   "outputs": [
    {
     "data": {
      "text/html": [
       "<div>\n",
       "<style scoped>\n",
       "    .dataframe tbody tr th:only-of-type {\n",
       "        vertical-align: middle;\n",
       "    }\n",
       "\n",
       "    .dataframe tbody tr th {\n",
       "        vertical-align: top;\n",
       "    }\n",
       "\n",
       "    .dataframe thead th {\n",
       "        text-align: right;\n",
       "    }\n",
       "</style>\n",
       "<table border=\"1\" class=\"dataframe\">\n",
       "  <thead>\n",
       "    <tr style=\"text-align: right;\">\n",
       "      <th></th>\n",
       "      <th>fz_label</th>\n",
       "      <th>fz_reason</th>\n",
       "      <th>pid</th>\n",
       "      <th>ns_label</th>\n",
       "      <th>yg_label</th>\n",
       "      <th>yg_reason</th>\n",
       "    </tr>\n",
       "  </thead>\n",
       "  <tbody>\n",
       "    <tr>\n",
       "      <th>712</th>\n",
       "      <td>excl</td>\n",
       "      <td>No valid IgG</td>\n",
       "      <td>712</td>\n",
       "      <td>keep</td>\n",
       "      <td>excl</td>\n",
       "      <td>No IgG data</td>\n",
       "    </tr>\n",
       "    <tr>\n",
       "      <th>1269</th>\n",
       "      <td>excl</td>\n",
       "      <td>No valid IgG</td>\n",
       "      <td>1269</td>\n",
       "      <td>keep</td>\n",
       "      <td>excl</td>\n",
       "      <td>No IgG data</td>\n",
       "    </tr>\n",
       "  </tbody>\n",
       "</table>\n",
       "</div>"
      ],
      "text/plain": [
       "     fz_label     fz_reason   pid ns_label yg_label    yg_reason\n",
       "712      excl  No valid IgG   712     keep     excl  No IgG data\n",
       "1269     excl  No valid IgG  1269     keep     excl  No IgG data"
      ]
     },
     "execution_count": 14,
     "metadata": {},
     "output_type": "execute_result"
    }
   ],
   "source": [
    "merged.query('fz_label==\"excl\" and (ns_label==\"keep\" or yg_label==\"keep\")')"
   ]
  },
  {
   "cell_type": "code",
   "execution_count": 15,
   "metadata": {},
   "outputs": [
    {
     "data": {
      "text/html": [
       "<div>\n",
       "<style scoped>\n",
       "    .dataframe tbody tr th:only-of-type {\n",
       "        vertical-align: middle;\n",
       "    }\n",
       "\n",
       "    .dataframe tbody tr th {\n",
       "        vertical-align: top;\n",
       "    }\n",
       "\n",
       "    .dataframe thead th {\n",
       "        text-align: right;\n",
       "    }\n",
       "</style>\n",
       "<table border=\"1\" class=\"dataframe\">\n",
       "  <thead>\n",
       "    <tr style=\"text-align: right;\">\n",
       "      <th></th>\n",
       "      <th>fz_label</th>\n",
       "      <th>fz_reason</th>\n",
       "      <th>pid</th>\n",
       "      <th>ns_label</th>\n",
       "      <th>yg_label</th>\n",
       "      <th>yg_reason</th>\n",
       "    </tr>\n",
       "  </thead>\n",
       "  <tbody>\n",
       "    <tr>\n",
       "      <th>254</th>\n",
       "      <td>keep</td>\n",
       "      <td>First IgG low before infection</td>\n",
       "      <td>254</td>\n",
       "      <td>excl</td>\n",
       "      <td>keep</td>\n",
       "      <td>NaN</td>\n",
       "    </tr>\n",
       "  </tbody>\n",
       "</table>\n",
       "</div>"
      ],
      "text/plain": [
       "    fz_label                       fz_reason  pid ns_label yg_label yg_reason\n",
       "254     keep  First IgG low before infection  254     excl     keep       NaN"
      ]
     },
     "execution_count": 15,
     "metadata": {},
     "output_type": "execute_result"
    }
   ],
   "source": [
    "merged.query('fz_label==\"keep\" and (ns_label==\"excl\" or yg_label==\"excl\")')"
   ]
  },
  {
   "cell_type": "code",
   "execution_count": 16,
   "metadata": {},
   "outputs": [],
   "source": [
    "merged.to_csv('data-V7.p1/merged_seropos.20210814.txt', sep=\"\\t\")"
   ]
  },
  {
   "cell_type": "markdown",
   "metadata": {},
   "source": [
    "# Make new meta data"
   ]
  },
  {
   "cell_type": "code",
   "execution_count": 46,
   "metadata": {},
   "outputs": [
    {
     "data": {
      "text/html": [
       "<div>\n",
       "<style scoped>\n",
       "    .dataframe tbody tr th:only-of-type {\n",
       "        vertical-align: middle;\n",
       "    }\n",
       "\n",
       "    .dataframe tbody tr th {\n",
       "        vertical-align: top;\n",
       "    }\n",
       "\n",
       "    .dataframe thead th {\n",
       "        text-align: right;\n",
       "    }\n",
       "</style>\n",
       "<table border=\"1\" class=\"dataframe\">\n",
       "  <thead>\n",
       "    <tr style=\"text-align: right;\">\n",
       "      <th></th>\n",
       "      <th>pid</th>\n",
       "      <th>Sex</th>\n",
       "      <th>T0_date</th>\n",
       "      <th>tp</th>\n",
       "      <th>paxgene_date</th>\n",
       "      <th>RNAseq_plate</th>\n",
       "      <th>contrast</th>\n",
       "      <th>manual</th>\n",
       "      <th>notes</th>\n",
       "      <th>final</th>\n",
       "      <th>...</th>\n",
       "      <th>Serum_date</th>\n",
       "      <th>VTM_date</th>\n",
       "      <th>scRNA_date</th>\n",
       "      <th>scATAC_date</th>\n",
       "      <th>virus_seq_date</th>\n",
       "      <th>Fluidigm_plate</th>\n",
       "      <th>EPIC850K</th>\n",
       "      <th>SNP_plate</th>\n",
       "      <th>Comments</th>\n",
       "      <th>company</th>\n",
       "    </tr>\n",
       "    <tr>\n",
       "      <th>sid</th>\n",
       "      <th></th>\n",
       "      <th></th>\n",
       "      <th></th>\n",
       "      <th></th>\n",
       "      <th></th>\n",
       "      <th></th>\n",
       "      <th></th>\n",
       "      <th></th>\n",
       "      <th></th>\n",
       "      <th></th>\n",
       "      <th></th>\n",
       "      <th></th>\n",
       "      <th></th>\n",
       "      <th></th>\n",
       "      <th></th>\n",
       "      <th></th>\n",
       "      <th></th>\n",
       "      <th></th>\n",
       "      <th></th>\n",
       "      <th></th>\n",
       "      <th></th>\n",
       "    </tr>\n",
       "  </thead>\n",
       "  <tbody>\n",
       "    <tr>\n",
       "      <th>20_0001-T00</th>\n",
       "      <td>1</td>\n",
       "      <td>F</td>\n",
       "      <td>05/08/2020</td>\n",
       "      <td>0</td>\n",
       "      <td>5/14/2020</td>\n",
       "      <td>P1</td>\n",
       "      <td>NaN</td>\n",
       "      <td>Late</td>\n",
       "      <td>NaN</td>\n",
       "      <td>Exposed</td>\n",
       "      <td>...</td>\n",
       "      <td>05/20/2020</td>\n",
       "      <td>NaN</td>\n",
       "      <td>NaN</td>\n",
       "      <td>NaN</td>\n",
       "      <td>NaN</td>\n",
       "      <td>NaN</td>\n",
       "      <td>NaN</td>\n",
       "      <td>NaN</td>\n",
       "      <td>NaN</td>\n",
       "      <td>NaN</td>\n",
       "    </tr>\n",
       "    <tr>\n",
       "      <th>20_0002-T00</th>\n",
       "      <td>2</td>\n",
       "      <td>F</td>\n",
       "      <td>05/08/2020</td>\n",
       "      <td>0</td>\n",
       "      <td>5/14/2020</td>\n",
       "      <td>P1</td>\n",
       "      <td>NaN</td>\n",
       "      <td>Late</td>\n",
       "      <td>NaN</td>\n",
       "      <td>Mild</td>\n",
       "      <td>...</td>\n",
       "      <td>05/20/2020</td>\n",
       "      <td>NaN</td>\n",
       "      <td>NaN</td>\n",
       "      <td>NaN</td>\n",
       "      <td>NaN</td>\n",
       "      <td>NaN</td>\n",
       "      <td>NaN</td>\n",
       "      <td>NaN</td>\n",
       "      <td>03/23/2020</td>\n",
       "      <td>NaN</td>\n",
       "    </tr>\n",
       "    <tr>\n",
       "      <th>20_0002-T28</th>\n",
       "      <td>2</td>\n",
       "      <td>F</td>\n",
       "      <td>05/08/2020</td>\n",
       "      <td>28</td>\n",
       "      <td>6/8/2020</td>\n",
       "      <td>P4</td>\n",
       "      <td>NaN</td>\n",
       "      <td>Late</td>\n",
       "      <td>NaN</td>\n",
       "      <td>Mild</td>\n",
       "      <td>...</td>\n",
       "      <td>06/08/2020</td>\n",
       "      <td>06/08/2020</td>\n",
       "      <td>NaN</td>\n",
       "      <td>NaN</td>\n",
       "      <td>NaN</td>\n",
       "      <td>NaN</td>\n",
       "      <td>NaN</td>\n",
       "      <td>NaN</td>\n",
       "      <td>03/23/2020</td>\n",
       "      <td>NaN</td>\n",
       "    </tr>\n",
       "    <tr>\n",
       "      <th>20_0003-T00</th>\n",
       "      <td>3</td>\n",
       "      <td>F</td>\n",
       "      <td>05/08/2020</td>\n",
       "      <td>0</td>\n",
       "      <td>5/14/2020</td>\n",
       "      <td>P3;P4</td>\n",
       "      <td>NaN</td>\n",
       "      <td>Late</td>\n",
       "      <td>NaN</td>\n",
       "      <td>Moderate</td>\n",
       "      <td>...</td>\n",
       "      <td>05/20/2020</td>\n",
       "      <td>NaN</td>\n",
       "      <td>NaN</td>\n",
       "      <td>NaN</td>\n",
       "      <td>NaN</td>\n",
       "      <td>NaN</td>\n",
       "      <td>NaN</td>\n",
       "      <td>NaN</td>\n",
       "      <td>03/28/2020; 03/30/2020</td>\n",
       "      <td>NaN</td>\n",
       "    </tr>\n",
       "    <tr>\n",
       "      <th>20_0003-T28</th>\n",
       "      <td>3</td>\n",
       "      <td>F</td>\n",
       "      <td>05/08/2020</td>\n",
       "      <td>28</td>\n",
       "      <td>6/8/2020</td>\n",
       "      <td>P4</td>\n",
       "      <td>NaN</td>\n",
       "      <td>Late</td>\n",
       "      <td>NaN</td>\n",
       "      <td>Moderate</td>\n",
       "      <td>...</td>\n",
       "      <td>06/08/2020</td>\n",
       "      <td>06/08/2020</td>\n",
       "      <td>NaN</td>\n",
       "      <td>NaN</td>\n",
       "      <td>NaN</td>\n",
       "      <td>NaN</td>\n",
       "      <td>NaN</td>\n",
       "      <td>NaN</td>\n",
       "      <td>03/28/2020; 03/30/2020</td>\n",
       "      <td>NaN</td>\n",
       "    </tr>\n",
       "  </tbody>\n",
       "</table>\n",
       "<p>5 rows × 69 columns</p>\n",
       "</div>"
      ],
      "text/plain": [
       "             pid Sex     T0_date  tp paxgene_date RNAseq_plate contrast  \\\n",
       "sid                                                                       \n",
       "20_0001-T00    1   F  05/08/2020   0    5/14/2020           P1      NaN   \n",
       "20_0002-T00    2   F  05/08/2020   0    5/14/2020           P1      NaN   \n",
       "20_0002-T28    2   F  05/08/2020  28     6/8/2020           P4      NaN   \n",
       "20_0003-T00    3   F  05/08/2020   0    5/14/2020        P3;P4      NaN   \n",
       "20_0003-T28    3   F  05/08/2020  28     6/8/2020           P4      NaN   \n",
       "\n",
       "            manual notes     final  ...  Serum_date    VTM_date scRNA_date  \\\n",
       "sid                                 ...                                      \n",
       "20_0001-T00   Late   NaN   Exposed  ...  05/20/2020         NaN        NaN   \n",
       "20_0002-T00   Late   NaN      Mild  ...  05/20/2020         NaN        NaN   \n",
       "20_0002-T28   Late   NaN      Mild  ...  06/08/2020  06/08/2020        NaN   \n",
       "20_0003-T00   Late   NaN  Moderate  ...  05/20/2020         NaN        NaN   \n",
       "20_0003-T28   Late   NaN  Moderate  ...  06/08/2020  06/08/2020        NaN   \n",
       "\n",
       "            scATAC_date virus_seq_date Fluidigm_plate EPIC850K SNP_plate  \\\n",
       "sid                                                                        \n",
       "20_0001-T00         NaN            NaN            NaN      NaN       NaN   \n",
       "20_0002-T00         NaN            NaN            NaN      NaN       NaN   \n",
       "20_0002-T28         NaN            NaN            NaN      NaN       NaN   \n",
       "20_0003-T00         NaN            NaN            NaN      NaN       NaN   \n",
       "20_0003-T28         NaN            NaN            NaN      NaN       NaN   \n",
       "\n",
       "                           Comments  company  \n",
       "sid                                           \n",
       "20_0001-T00                     NaN      NaN  \n",
       "20_0002-T00              03/23/2020      NaN  \n",
       "20_0002-T28              03/23/2020      NaN  \n",
       "20_0003-T00  03/28/2020; 03/30/2020      NaN  \n",
       "20_0003-T28  03/28/2020; 03/30/2020      NaN  \n",
       "\n",
       "[5 rows x 69 columns]"
      ]
     },
     "execution_count": 46,
     "metadata": {},
     "output_type": "execute_result"
    }
   ],
   "source": [
    "old_meta = pd.read_table('./data-V9/charm_master.csv', sep=\"\\t\", index_col=0, low_memory=False)\n",
    "old_meta.head()"
   ]
  },
  {
   "cell_type": "code",
   "execution_count": 47,
   "metadata": {},
   "outputs": [],
   "source": [
    "new_meta = old_meta[old_meta.pid.isin(merged.query('fz_label==\"keep\"').pid)]"
   ]
  },
  {
   "cell_type": "code",
   "execution_count": 61,
   "metadata": {},
   "outputs": [
    {
     "name": "stderr",
     "output_type": "stream",
     "text": [
      "/mnt/home/zzhang/workspace/programs/anaconda3/envs/rna-seq/lib/python3.6/site-packages/ipykernel_launcher.py:1: SettingWithCopyWarning: \n",
      "A value is trying to be set on a copy of a slice from a DataFrame.\n",
      "Try using .loc[row_indexer,col_indexer] = value instead\n",
      "\n",
      "See the caveats in the documentation: https://pandas.pydata.org/pandas-docs/stable/user_guide/indexing.html#returning-a-view-versus-a-copy\n",
      "  \"\"\"Entry point for launching an IPython kernel.\n",
      "/mnt/home/zzhang/workspace/programs/anaconda3/envs/rna-seq/lib/python3.6/site-packages/ipykernel_launcher.py:2: SettingWithCopyWarning: \n",
      "A value is trying to be set on a copy of a slice from a DataFrame.\n",
      "Try using .loc[row_indexer,col_indexer] = value instead\n",
      "\n",
      "See the caveats in the documentation: https://pandas.pydata.org/pandas-docs/stable/user_guide/indexing.html#returning-a-view-versus-a-copy\n",
      "  \n"
     ]
    }
   ],
   "source": [
    "new_meta['RNAseq_plate'] = ['Multiple' if type(x) is str and ';' in x else x for x in new_meta['RNAseq_plate']]\n",
    "new_meta['RNAseq_plate'] = [np.nan if type(x) is str and '?' in x else x for x in new_meta['RNAseq_plate']]\n",
    "\n",
    "new_meta[new_meta['RNAseq_plate'].notna()].rename(columns={'RNAseq_plate': 'plateNum'})[['pid', 'plateNum', 'final', 'Sex']].\\\n",
    "    to_csv('data-V9/charm_master.no_seropos.csv')"
   ]
  },
  {
   "cell_type": "code",
   "execution_count": 57,
   "metadata": {},
   "outputs": [
    {
     "data": {
      "text/plain": [
       "Sex\n",
       "M    255\n",
       "F     55\n",
       "dtype: int64"
      ]
     },
     "execution_count": 57,
     "metadata": {},
     "output_type": "execute_result"
    }
   ],
   "source": [
    "new_meta[new_meta['RNAseq_plate'].notna()].\\\n",
    "    query('final==\"Control\" or final==\"First\" or final==\"Mid\"')[['pid', 'Sex']].\\\n",
    "    drop_duplicates().value_counts('Sex')"
   ]
  },
  {
   "cell_type": "code",
   "execution_count": 58,
   "metadata": {},
   "outputs": [
    {
     "data": {
      "text/plain": [
       "final    Sex\n",
       "Control  F       38\n",
       "         M      229\n",
       "First    F       31\n",
       "         M       58\n",
       "Mid      F       26\n",
       "         M      177\n",
       "Post     F       25\n",
       "         M      176\n",
       "dtype: int64"
      ]
     },
     "execution_count": 58,
     "metadata": {},
     "output_type": "execute_result"
    }
   ],
   "source": [
    "new_meta[new_meta['RNAseq_plate'].notna()][['pid','Sex','final']].drop_duplicates().\\\n",
    "    query('final==\"Control\" or final==\"First\" or final==\"Mid\" or final==\"Post\"'). \\\n",
    "    groupby(['final', 'Sex']).size()"
   ]
  },
  {
   "cell_type": "code",
   "execution_count": null,
   "metadata": {},
   "outputs": [],
   "source": [
    "print(\"FINISH:\", datetime.now())"
   ]
  },
  {
   "cell_type": "code",
   "execution_count": null,
   "metadata": {},
   "outputs": [],
   "source": []
  }
 ],
 "metadata": {
  "kernelspec": {
   "display_name": "Python 3",
   "language": "python",
   "name": "python3"
  },
  "language_info": {
   "codemirror_mode": {
    "name": "ipython",
    "version": 3
   },
   "file_extension": ".py",
   "mimetype": "text/x-python",
   "name": "python",
   "nbconvert_exporter": "python",
   "pygments_lexer": "ipython3",
   "version": "3.6.10"
  }
 },
 "nbformat": 4,
 "nbformat_minor": 4
}
