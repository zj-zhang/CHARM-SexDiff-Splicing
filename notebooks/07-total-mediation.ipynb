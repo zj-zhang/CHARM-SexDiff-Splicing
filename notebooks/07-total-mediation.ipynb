{
 "cells": [
  {
   "cell_type": "markdown",
   "metadata": {},
   "source": [
    "# Total mediation effects\n",
    "\n",
    "Based on the paper https://www.ncbi.nlm.nih.gov/pmc/articles/PMC4287269/\n"
   ]
  },
  {
   "cell_type": "code",
   "execution_count": 1,
   "metadata": {},
   "outputs": [
    {
     "name": "stdout",
     "output_type": "stream",
     "text": [
      "/mnt/ceph/users/zzhang/CHARM-SexDiff-Splicing/jemm\n"
     ]
    }
   ],
   "source": [
    "%cd /mnt/home/zzhang/ceph/jemm"
   ]
  },
  {
   "cell_type": "code",
   "execution_count": 2,
   "metadata": {},
   "outputs": [],
   "source": [
    "import pandas as pd\n",
    "import statsmodels.api as sm"
   ]
  },
  {
   "cell_type": "code",
   "execution_count": 3,
   "metadata": {},
   "outputs": [],
   "source": [
    "data = pd.read_table(\"data-V9/mediation_analysis/first_mid.forCMA.txt\")"
   ]
  },
  {
   "cell_type": "code",
   "execution_count": 4,
   "metadata": {},
   "outputs": [
    {
     "data": {
      "text/html": [
       "<div>\n",
       "<style scoped>\n",
       "    .dataframe tbody tr th:only-of-type {\n",
       "        vertical-align: middle;\n",
       "    }\n",
       "\n",
       "    .dataframe tbody tr th {\n",
       "        vertical-align: top;\n",
       "    }\n",
       "\n",
       "    .dataframe thead th {\n",
       "        text-align: right;\n",
       "    }\n",
       "</style>\n",
       "<table border=\"1\" class=\"dataframe\">\n",
       "  <thead>\n",
       "    <tr style=\"text-align: right;\">\n",
       "      <th></th>\n",
       "      <th>sid</th>\n",
       "      <th>pid</th>\n",
       "      <th>final</th>\n",
       "      <th>Age</th>\n",
       "      <th>Sex</th>\n",
       "      <th>is_female</th>\n",
       "      <th>base_ISG_LV3</th>\n",
       "      <th>base_ISG_LV5</th>\n",
       "      <th>base_ISG_LV6</th>\n",
       "      <th>base_ISG_LV10</th>\n",
       "      <th>...</th>\n",
       "      <th>msk</th>\n",
       "      <th>nv</th>\n",
       "      <th>rn_nose</th>\n",
       "      <th>sob</th>\n",
       "      <th>subj_fvr</th>\n",
       "      <th>taste</th>\n",
       "      <th>throat</th>\n",
       "      <th>num_symps</th>\n",
       "      <th>CTavg</th>\n",
       "      <th>days_since_infect</th>\n",
       "    </tr>\n",
       "  </thead>\n",
       "  <tbody>\n",
       "    <tr>\n",
       "      <th>0</th>\n",
       "      <td>20_0149-T42</td>\n",
       "      <td>149</td>\n",
       "      <td>First</td>\n",
       "      <td>19.0</td>\n",
       "      <td>M</td>\n",
       "      <td>0</td>\n",
       "      <td>-0.563513</td>\n",
       "      <td>0.144323</td>\n",
       "      <td>-0.089108</td>\n",
       "      <td>-0.083181</td>\n",
       "      <td>...</td>\n",
       "      <td>0.0</td>\n",
       "      <td>0.0</td>\n",
       "      <td>0.0</td>\n",
       "      <td>0.0</td>\n",
       "      <td>0.0</td>\n",
       "      <td>0.0</td>\n",
       "      <td>0.0</td>\n",
       "      <td>0.0</td>\n",
       "      <td>29.957500</td>\n",
       "      <td>0</td>\n",
       "    </tr>\n",
       "    <tr>\n",
       "      <th>1</th>\n",
       "      <td>20_0152-T53</td>\n",
       "      <td>152</td>\n",
       "      <td>First</td>\n",
       "      <td>19.0</td>\n",
       "      <td>M</td>\n",
       "      <td>0</td>\n",
       "      <td>-0.756253</td>\n",
       "      <td>0.070571</td>\n",
       "      <td>-0.205008</td>\n",
       "      <td>-0.073074</td>\n",
       "      <td>...</td>\n",
       "      <td>0.0</td>\n",
       "      <td>0.0</td>\n",
       "      <td>0.0</td>\n",
       "      <td>0.0</td>\n",
       "      <td>0.0</td>\n",
       "      <td>0.0</td>\n",
       "      <td>0.0</td>\n",
       "      <td>0.0</td>\n",
       "      <td>35.025000</td>\n",
       "      <td>0</td>\n",
       "    </tr>\n",
       "    <tr>\n",
       "      <th>2</th>\n",
       "      <td>20_0155-T42</td>\n",
       "      <td>155</td>\n",
       "      <td>First</td>\n",
       "      <td>22.0</td>\n",
       "      <td>M</td>\n",
       "      <td>0</td>\n",
       "      <td>-1.059343</td>\n",
       "      <td>0.325916</td>\n",
       "      <td>-0.360406</td>\n",
       "      <td>-0.130774</td>\n",
       "      <td>...</td>\n",
       "      <td>0.0</td>\n",
       "      <td>0.0</td>\n",
       "      <td>0.0</td>\n",
       "      <td>0.0</td>\n",
       "      <td>0.0</td>\n",
       "      <td>0.0</td>\n",
       "      <td>0.0</td>\n",
       "      <td>0.0</td>\n",
       "      <td>25.643333</td>\n",
       "      <td>0</td>\n",
       "    </tr>\n",
       "    <tr>\n",
       "      <th>3</th>\n",
       "      <td>20_0156-T42</td>\n",
       "      <td>156</td>\n",
       "      <td>First</td>\n",
       "      <td>22.0</td>\n",
       "      <td>M</td>\n",
       "      <td>0</td>\n",
       "      <td>-0.408753</td>\n",
       "      <td>0.458178</td>\n",
       "      <td>-0.379783</td>\n",
       "      <td>-0.444856</td>\n",
       "      <td>...</td>\n",
       "      <td>0.0</td>\n",
       "      <td>0.0</td>\n",
       "      <td>0.0</td>\n",
       "      <td>0.0</td>\n",
       "      <td>0.0</td>\n",
       "      <td>0.0</td>\n",
       "      <td>0.0</td>\n",
       "      <td>0.0</td>\n",
       "      <td>23.715000</td>\n",
       "      <td>0</td>\n",
       "    </tr>\n",
       "    <tr>\n",
       "      <th>4</th>\n",
       "      <td>20_0157-T42</td>\n",
       "      <td>157</td>\n",
       "      <td>First</td>\n",
       "      <td>19.0</td>\n",
       "      <td>M</td>\n",
       "      <td>0</td>\n",
       "      <td>0.002407</td>\n",
       "      <td>0.249973</td>\n",
       "      <td>-0.218508</td>\n",
       "      <td>-0.407287</td>\n",
       "      <td>...</td>\n",
       "      <td>0.0</td>\n",
       "      <td>0.0</td>\n",
       "      <td>1.0</td>\n",
       "      <td>1.0</td>\n",
       "      <td>0.0</td>\n",
       "      <td>1.0</td>\n",
       "      <td>1.0</td>\n",
       "      <td>5.0</td>\n",
       "      <td>25.736667</td>\n",
       "      <td>0</td>\n",
       "    </tr>\n",
       "  </tbody>\n",
       "</table>\n",
       "<p>5 rows × 38 columns</p>\n",
       "</div>"
      ],
      "text/plain": [
       "           sid  pid  final   Age Sex  is_female  base_ISG_LV3  base_ISG_LV5  \\\n",
       "0  20_0149-T42  149  First  19.0   M          0     -0.563513      0.144323   \n",
       "1  20_0152-T53  152  First  19.0   M          0     -0.756253      0.070571   \n",
       "2  20_0155-T42  155  First  22.0   M          0     -1.059343      0.325916   \n",
       "3  20_0156-T42  156  First  22.0   M          0     -0.408753      0.458178   \n",
       "4  20_0157-T42  157  First  19.0   M          0      0.002407      0.249973   \n",
       "\n",
       "   base_ISG_LV6  base_ISG_LV10  ...  msk   nv  rn_nose  sob  subj_fvr  taste  \\\n",
       "0     -0.089108      -0.083181  ...  0.0  0.0      0.0  0.0       0.0    0.0   \n",
       "1     -0.205008      -0.073074  ...  0.0  0.0      0.0  0.0       0.0    0.0   \n",
       "2     -0.360406      -0.130774  ...  0.0  0.0      0.0  0.0       0.0    0.0   \n",
       "3     -0.379783      -0.444856  ...  0.0  0.0      0.0  0.0       0.0    0.0   \n",
       "4     -0.218508      -0.407287  ...  0.0  0.0      1.0  1.0       0.0    1.0   \n",
       "\n",
       "   throat  num_symps      CTavg  days_since_infect  \n",
       "0     0.0        0.0  29.957500                  0  \n",
       "1     0.0        0.0  35.025000                  0  \n",
       "2     0.0        0.0  25.643333                  0  \n",
       "3     0.0        0.0  23.715000                  0  \n",
       "4     1.0        5.0  25.736667                  0  \n",
       "\n",
       "[5 rows x 38 columns]"
      ]
     },
     "execution_count": 4,
     "metadata": {},
     "output_type": "execute_result"
    }
   ],
   "source": [
    "data.head()"
   ]
  },
  {
   "cell_type": "code",
   "execution_count": 5,
   "metadata": {},
   "outputs": [
    {
     "data": {
      "text/plain": [
       "Index(['sid', 'pid', 'final', 'Age', 'Sex', 'is_female', 'base_ISG_LV3',\n",
       "       'base_ISG_LV5', 'base_ISG_LV6', 'base_ISG_LV10', 'base_ISG_LV3_prj',\n",
       "       'base_ISG_LV5_prj', 'base_ISG_LV6_prj', 'base_ISG_LV10_prj',\n",
       "       'ISG_LV3_prj', 'ISG_LV5_prj', 'ISG_LV6_prj', 'ISG_LV10_prj',\n",
       "       'PSI_CD45RBC', 'delta_PSI_CD45RBC', 'asymp', 'abd', 'chill', 'cough',\n",
       "       'diarr', 'fatigue', 'fvr', 'headache', 'msk', 'nv', 'rn_nose', 'sob',\n",
       "       'subj_fvr', 'taste', 'throat', 'num_symps', 'CTavg',\n",
       "       'days_since_infect'],\n",
       "      dtype='object')"
      ]
     },
     "execution_count": 5,
     "metadata": {},
     "output_type": "execute_result"
    }
   ],
   "source": [
    "data.columns"
   ]
  },
  {
   "cell_type": "code",
   "execution_count": 6,
   "metadata": {},
   "outputs": [
    {
     "name": "stderr",
     "output_type": "stream",
     "text": [
      "/mnt/home/zzhang/anaconda3/envs/rna-seq/lib/python3.6/site-packages/statsmodels/regression/linear_model.py:1830: RuntimeWarning: divide by zero encountered in double_scalars\n",
      "  return np.sqrt(eigvals[0]/eigvals[-1])\n",
      "/mnt/home/zzhang/anaconda3/envs/rna-seq/lib/python3.6/site-packages/statsmodels/base/model.py:1362: RuntimeWarning: invalid value encountered in true_divide\n",
      "  return self.params / self.bse\n"
     ]
    },
    {
     "data": {
      "text/html": [
       "<div>\n",
       "<style scoped>\n",
       "    .dataframe tbody tr th:only-of-type {\n",
       "        vertical-align: middle;\n",
       "    }\n",
       "\n",
       "    .dataframe tbody tr th {\n",
       "        vertical-align: top;\n",
       "    }\n",
       "\n",
       "    .dataframe thead th {\n",
       "        text-align: right;\n",
       "    }\n",
       "</style>\n",
       "<table border=\"1\" class=\"dataframe\">\n",
       "  <thead>\n",
       "    <tr style=\"text-align: right;\">\n",
       "      <th></th>\n",
       "      <th>Coef.</th>\n",
       "      <th>Std.Err.</th>\n",
       "      <th>t</th>\n",
       "      <th>P&gt;|t|</th>\n",
       "      <th>[0.025</th>\n",
       "      <th>0.975]</th>\n",
       "    </tr>\n",
       "  </thead>\n",
       "  <tbody>\n",
       "    <tr>\n",
       "      <th>intercept</th>\n",
       "      <td>25.082487</td>\n",
       "      <td>0.462360</td>\n",
       "      <td>54.248843</td>\n",
       "      <td>2.436307e-124</td>\n",
       "      <td>24.170949</td>\n",
       "      <td>25.994025</td>\n",
       "    </tr>\n",
       "    <tr>\n",
       "      <th>is_female</th>\n",
       "      <td>2.118668</td>\n",
       "      <td>1.450610</td>\n",
       "      <td>1.460536</td>\n",
       "      <td>1.456588e-01</td>\n",
       "      <td>-0.741195</td>\n",
       "      <td>4.978531</td>\n",
       "    </tr>\n",
       "    <tr>\n",
       "      <th>base_ISG_LV3</th>\n",
       "      <td>0.081927</td>\n",
       "      <td>1.123434</td>\n",
       "      <td>0.072926</td>\n",
       "      <td>9.419355e-01</td>\n",
       "      <td>-2.132912</td>\n",
       "      <td>2.296767</td>\n",
       "    </tr>\n",
       "    <tr>\n",
       "      <th>base_ISG_LV5</th>\n",
       "      <td>0.090326</td>\n",
       "      <td>2.030042</td>\n",
       "      <td>0.044494</td>\n",
       "      <td>9.645532e-01</td>\n",
       "      <td>-3.911882</td>\n",
       "      <td>4.092533</td>\n",
       "    </tr>\n",
       "    <tr>\n",
       "      <th>base_ISG_LV6</th>\n",
       "      <td>2.213871</td>\n",
       "      <td>1.806240</td>\n",
       "      <td>1.225679</td>\n",
       "      <td>2.217122e-01</td>\n",
       "      <td>-1.347115</td>\n",
       "      <td>5.774857</td>\n",
       "    </tr>\n",
       "    <tr>\n",
       "      <th>base_ISG_LV10</th>\n",
       "      <td>0.080075</td>\n",
       "      <td>2.136255</td>\n",
       "      <td>0.037484</td>\n",
       "      <td>9.701353e-01</td>\n",
       "      <td>-4.131532</td>\n",
       "      <td>4.291682</td>\n",
       "    </tr>\n",
       "    <tr>\n",
       "      <th>days_since_infect</th>\n",
       "      <td>0.000000</td>\n",
       "      <td>0.000000</td>\n",
       "      <td>NaN</td>\n",
       "      <td>NaN</td>\n",
       "      <td>0.000000</td>\n",
       "      <td>0.000000</td>\n",
       "    </tr>\n",
       "  </tbody>\n",
       "</table>\n",
       "</div>"
      ],
      "text/plain": [
       "                       Coef.  Std.Err.          t          P>|t|     [0.025  \\\n",
       "intercept          25.082487  0.462360  54.248843  2.436307e-124  24.170949   \n",
       "is_female           2.118668  1.450610   1.460536   1.456588e-01  -0.741195   \n",
       "base_ISG_LV3        0.081927  1.123434   0.072926   9.419355e-01  -2.132912   \n",
       "base_ISG_LV5        0.090326  2.030042   0.044494   9.645532e-01  -3.911882   \n",
       "base_ISG_LV6        2.213871  1.806240   1.225679   2.217122e-01  -1.347115   \n",
       "base_ISG_LV10       0.080075  2.136255   0.037484   9.701353e-01  -4.131532   \n",
       "days_since_infect   0.000000  0.000000        NaN            NaN   0.000000   \n",
       "\n",
       "                      0.975]  \n",
       "intercept          25.994025  \n",
       "is_female           4.978531  \n",
       "base_ISG_LV3        2.296767  \n",
       "base_ISG_LV5        4.092533  \n",
       "base_ISG_LV6        5.774857  \n",
       "base_ISG_LV10       4.291682  \n",
       "days_since_infect   0.000000  "
      ]
     },
     "execution_count": 6,
     "metadata": {},
     "output_type": "execute_result"
    }
   ],
   "source": [
    "# E[Y|a,m,c]\n",
    "Y = 'CTavg' \n",
    "a = 'is_female'\n",
    "Ms = ['base_ISG_LV3','base_ISG_LV5','base_ISG_LV6','base_ISG_LV10']\n",
    "Cs = ['days_since_infect']\n",
    "df = data.query('final==\"First\"')[[Y, a, ] + Ms + Cs]\n",
    "df['intercept'] = 1\n",
    "df.dropna(inplace=True)\n",
    "m1 = sm.OLS(df[Y], df[['intercept', a]+ Ms + Cs])\n",
    "res1 = m1.fit()\n",
    "thetas = res1.summary2().tables[1].loc[Ms, 'Coef.'].to_dict()\n",
    "res1.summary2().tables[1]"
   ]
  },
  {
   "cell_type": "code",
   "execution_count": 7,
   "metadata": {},
   "outputs": [
    {
     "name": "stderr",
     "output_type": "stream",
     "text": [
      "/mnt/home/zzhang/anaconda3/envs/rna-seq/lib/python3.6/site-packages/statsmodels/regression/linear_model.py:1830: RuntimeWarning: divide by zero encountered in double_scalars\n",
      "  return np.sqrt(eigvals[0]/eigvals[-1])\n",
      "/mnt/home/zzhang/anaconda3/envs/rna-seq/lib/python3.6/site-packages/statsmodels/base/model.py:1362: RuntimeWarning: invalid value encountered in true_divide\n",
      "  return self.params / self.bse\n"
     ]
    },
    {
     "data": {
      "text/html": [
       "<div>\n",
       "<style scoped>\n",
       "    .dataframe tbody tr th:only-of-type {\n",
       "        vertical-align: middle;\n",
       "    }\n",
       "\n",
       "    .dataframe tbody tr th {\n",
       "        vertical-align: top;\n",
       "    }\n",
       "\n",
       "    .dataframe thead th {\n",
       "        text-align: right;\n",
       "    }\n",
       "</style>\n",
       "<table border=\"1\" class=\"dataframe\">\n",
       "  <thead>\n",
       "    <tr style=\"text-align: right;\">\n",
       "      <th></th>\n",
       "      <th>Coef.</th>\n",
       "      <th>Std.Err.</th>\n",
       "      <th>t</th>\n",
       "      <th>P&gt;|t|</th>\n",
       "      <th>[0.025</th>\n",
       "      <th>0.975]</th>\n",
       "    </tr>\n",
       "  </thead>\n",
       "  <tbody>\n",
       "    <tr>\n",
       "      <th>intercept</th>\n",
       "      <td>24.899706</td>\n",
       "      <td>0.429953</td>\n",
       "      <td>57.912655</td>\n",
       "      <td>1.673099e-131</td>\n",
       "      <td>24.052153</td>\n",
       "      <td>25.747259</td>\n",
       "    </tr>\n",
       "    <tr>\n",
       "      <th>is_female</th>\n",
       "      <td>2.633627</td>\n",
       "      <td>1.308418</td>\n",
       "      <td>2.012833</td>\n",
       "      <td>4.540304e-02</td>\n",
       "      <td>0.054380</td>\n",
       "      <td>5.212874</td>\n",
       "    </tr>\n",
       "    <tr>\n",
       "      <th>days_since_infect</th>\n",
       "      <td>0.000000</td>\n",
       "      <td>0.000000</td>\n",
       "      <td>NaN</td>\n",
       "      <td>NaN</td>\n",
       "      <td>0.000000</td>\n",
       "      <td>0.000000</td>\n",
       "    </tr>\n",
       "  </tbody>\n",
       "</table>\n",
       "</div>"
      ],
      "text/plain": [
       "                       Coef.  Std.Err.          t          P>|t|     [0.025  \\\n",
       "intercept          24.899706  0.429953  57.912655  1.673099e-131  24.052153   \n",
       "is_female           2.633627  1.308418   2.012833   4.540304e-02   0.054380   \n",
       "days_since_infect   0.000000  0.000000        NaN            NaN   0.000000   \n",
       "\n",
       "                      0.975]  \n",
       "intercept          25.747259  \n",
       "is_female           5.212874  \n",
       "days_since_infect   0.000000  "
      ]
     },
     "execution_count": 7,
     "metadata": {},
     "output_type": "execute_result"
    }
   ],
   "source": [
    "m2 = sm.OLS(df[Y], df[['intercept', a] + Cs])\n",
    "res2 = m2.fit()\n",
    "res2.summary2().tables[1]"
   ]
  },
  {
   "cell_type": "code",
   "execution_count": 8,
   "metadata": {},
   "outputs": [
    {
     "name": "stderr",
     "output_type": "stream",
     "text": [
      "/mnt/home/zzhang/anaconda3/envs/rna-seq/lib/python3.6/site-packages/statsmodels/regression/linear_model.py:1830: RuntimeWarning: divide by zero encountered in double_scalars\n",
      "  return np.sqrt(eigvals[0]/eigvals[-1])\n",
      "/mnt/home/zzhang/anaconda3/envs/rna-seq/lib/python3.6/site-packages/statsmodels/base/model.py:1362: RuntimeWarning: invalid value encountered in true_divide\n",
      "  return self.params / self.bse\n"
     ]
    }
   ],
   "source": [
    "# E[m|a,c]\n",
    "betas = {}\n",
    "for M in Ms:\n",
    "    m = sm.OLS(df[M], df[['intercept', a] + Cs])\n",
    "    res = m.fit()\n",
    "    betas[M] = res.summary2().tables[1].loc[a, 'Coef.']"
   ]
  },
  {
   "cell_type": "code",
   "execution_count": 9,
   "metadata": {},
   "outputs": [
    {
     "data": {
      "text/plain": [
       "0.5149589206236083"
      ]
     },
     "execution_count": 9,
     "metadata": {},
     "output_type": "execute_result"
    }
   ],
   "source": [
    "# indirect\n",
    "sum([thetas[M]*betas[M] for M in Ms])"
   ]
  },
  {
   "cell_type": "code",
   "execution_count": 10,
   "metadata": {},
   "outputs": [
    {
     "data": {
      "text/plain": [
       "2.1186682723588617"
      ]
     },
     "execution_count": 10,
     "metadata": {},
     "output_type": "execute_result"
    }
   ],
   "source": [
    "# direct\n",
    "res1.summary2().tables[1].loc[a, 'Coef.']"
   ]
  },
  {
   "cell_type": "code",
   "execution_count": null,
   "metadata": {},
   "outputs": [],
   "source": []
  }
 ],
 "metadata": {
  "kernelspec": {
   "display_name": "Python 3",
   "language": "python",
   "name": "python3"
  },
  "language_info": {
   "codemirror_mode": {
    "name": "ipython",
    "version": 3
   },
   "file_extension": ".py",
   "mimetype": "text/x-python",
   "name": "python",
   "nbconvert_exporter": "python",
   "pygments_lexer": "ipython3",
   "version": "3.6.10"
  }
 },
 "nbformat": 4,
 "nbformat_minor": 4
}
