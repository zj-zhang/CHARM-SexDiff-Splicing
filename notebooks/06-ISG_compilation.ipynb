{
 "cells": [
  {
   "cell_type": "markdown",
   "metadata": {},
   "source": [
    "# Compile ISG LVs for mediation analysis"
   ]
  },
  {
   "cell_type": "code",
   "execution_count": 1,
   "metadata": {},
   "outputs": [
    {
     "name": "stdout",
     "output_type": "stream",
     "text": [
      "START: 2021-08-20 14:07:52.495095\n",
      "Simons Foundation, Rusty HPC, worker3000\n"
     ]
    }
   ],
   "source": [
    "from datetime import datetime; print(\"START:\", datetime.now())\n",
    "import socket; print(\"Simons Foundation, Rusty HPC,\", socket.gethostname())"
   ]
  },
  {
   "cell_type": "code",
   "execution_count": 2,
   "metadata": {},
   "outputs": [
    {
     "name": "stdout",
     "output_type": "stream",
     "text": [
      "/mnt/ceph/users/zzhang/jemm\n"
     ]
    }
   ],
   "source": [
    "%cd /mnt/home/zzhang/ceph/jemm"
   ]
  },
  {
   "cell_type": "code",
   "execution_count": 3,
   "metadata": {},
   "outputs": [],
   "source": [
    "import os\n",
    "import pandas as pd\n",
    "import numpy as np\n",
    "import matplotlib.pyplot as plt\n",
    "import seaborn as sns\n",
    "import scipy.stats as ss\n",
    "from tqdm import tqdm\n",
    "from sklearn.model_selection import cross_val_predict\n",
    "from sklearn.linear_model import LinearRegression, Ridge, LogisticRegression, PoissonRegressor\n",
    "from sklearn.ensemble import RandomForestRegressor, AdaBoostRegressor\n",
    "import statsmodels.formula.api as smf\n"
   ]
  },
  {
   "cell_type": "code",
   "execution_count": 4,
   "metadata": {},
   "outputs": [],
   "source": [
    "DATA_VER = 'data-V9'\n",
    "PCS_TO_INCL = '\"\"'\n",
    "USE_RE = True\n",
    "WD = '%s/mediation_analysis' % DATA_VER\n",
    "os.makedirs(WD, exist_ok=True)\n",
    "\n",
    "enable_compilation = True\n",
    "enable_all_genes = False\n",
    "#%run ./notebook/navy_utils_sexDiff.py $DATA_VER $PCS_TO_INCL $USE_RE"
   ]
  },
  {
   "cell_type": "code",
   "execution_count": 5,
   "metadata": {},
   "outputs": [],
   "source": [
    "if enable_compilation is True:\n",
    "    # read in normalized gene TPM\n",
    "    if DATA_VER == \"data-V9\":\n",
    "        tpm_df = pd.read_table('./data-V9/charm_normalizedcounts_v9_kallisto_finalinclusion.txt', sep=\"\\t\", index_col=0)\n",
    "        plier_df = pd.read_csv('./data/PLIER_v8.B.tsv', sep=\"\\t\")\n",
    "        plier_df.rename(columns={x:x.split('_P')[0] for x in plier_df.columns}, inplace=True)\n",
    "    else:\n",
    "        raise Exception\n",
    "    \n",
    "    # read in ISG lvs\n",
    "    isg_lvs = pd.read_csv('./data/ISG_lvsControl.T.txt', index_col=0)\n",
    "\n",
    "    # convert ensgene to genesymbol\n",
    "    import pickle\n",
    "    mygenes = pd.read_table('./data/ensemblToGeneID.txt', sep=\"\\t\", index_col=0)['Gene name'].to_dict()\n",
    "    add_gene = pd.read_table('./data/genename_to_ensid_map_isgs.tsv', sep=\"\\t\", index_col=0, header=None)[1].to_dict()\n",
    "    mygenes.update(add_gene)\n",
    "    # strip the gene version numbers\n",
    "    tpm_df.index = [x.split('.')[0] for x in tpm_df.index]\n",
    "    tpm_df.index = [\n",
    "        mygenes[ensg] if ensg in mygenes else ensg\n",
    "        for ensg in tpm_df.index\n",
    "    ]\n",
    "else:\n",
    "    print('skipped')"
   ]
  },
  {
   "cell_type": "code",
   "execution_count": 6,
   "metadata": {},
   "outputs": [
    {
     "data": {
      "text/html": [
       "<div>\n",
       "<style scoped>\n",
       "    .dataframe tbody tr th:only-of-type {\n",
       "        vertical-align: middle;\n",
       "    }\n",
       "\n",
       "    .dataframe tbody tr th {\n",
       "        vertical-align: top;\n",
       "    }\n",
       "\n",
       "    .dataframe thead th {\n",
       "        text-align: right;\n",
       "    }\n",
       "</style>\n",
       "<table border=\"1\" class=\"dataframe\">\n",
       "  <thead>\n",
       "    <tr style=\"text-align: right;\">\n",
       "      <th></th>\n",
       "      <th>ISG_LV3_prj</th>\n",
       "      <th>ISG_LV5_prj</th>\n",
       "      <th>ISG_LV6_prj</th>\n",
       "      <th>ISG_LV10_prj</th>\n",
       "    </tr>\n",
       "  </thead>\n",
       "  <tbody>\n",
       "    <tr>\n",
       "      <th>IFIH1</th>\n",
       "      <td>-0.000901</td>\n",
       "      <td>-0.000816</td>\n",
       "      <td>0.004179</td>\n",
       "      <td>0.007703</td>\n",
       "    </tr>\n",
       "    <tr>\n",
       "      <th>DDX58</th>\n",
       "      <td>0.001402</td>\n",
       "      <td>0.000202</td>\n",
       "      <td>0.002907</td>\n",
       "      <td>0.007909</td>\n",
       "    </tr>\n",
       "    <tr>\n",
       "      <th>IRF1</th>\n",
       "      <td>0.001310</td>\n",
       "      <td>-0.000643</td>\n",
       "      <td>0.007838</td>\n",
       "      <td>-0.004868</td>\n",
       "    </tr>\n",
       "    <tr>\n",
       "      <th>IRF7</th>\n",
       "      <td>-0.000360</td>\n",
       "      <td>-0.000651</td>\n",
       "      <td>0.001341</td>\n",
       "      <td>0.008734</td>\n",
       "    </tr>\n",
       "    <tr>\n",
       "      <th>HSH2D</th>\n",
       "      <td>0.006118</td>\n",
       "      <td>-0.000794</td>\n",
       "      <td>-0.002150</td>\n",
       "      <td>0.005193</td>\n",
       "    </tr>\n",
       "  </tbody>\n",
       "</table>\n",
       "</div>"
      ],
      "text/plain": [
       "       ISG_LV3_prj  ISG_LV5_prj  ISG_LV6_prj  ISG_LV10_prj\n",
       "IFIH1    -0.000901    -0.000816     0.004179      0.007703\n",
       "DDX58     0.001402     0.000202     0.002907      0.007909\n",
       "IRF1      0.001310    -0.000643     0.007838     -0.004868\n",
       "IRF7     -0.000360    -0.000651     0.001341      0.008734\n",
       "HSH2D     0.006118    -0.000794    -0.002150      0.005193"
      ]
     },
     "execution_count": 6,
     "metadata": {},
     "output_type": "execute_result"
    }
   ],
   "source": [
    "isg_proj = pd.read_table('./data/ISG_ProjectionMatrix.txt', index_col=0).transpose()\n",
    "isg_proj.rename(index={'HLA-G':'HLAG', 'HLA-E':'HLAE', 'HLA-C':'HLAC', 'HLA-F':'HLAF'}, inplace=True)\n",
    "isg_proj.rename(\n",
    "    columns={\n",
    "        '3 CHARMcontrol': 'ISG_LV3_prj',\n",
    "        '5 CHARMcontrol': 'ISG_LV5_prj',\n",
    "        '6 CHARMcontrol': 'ISG_LV6_prj',\n",
    "        '10 CHARMcontrol': 'ISG_LV10_prj',\n",
    "    }, \n",
    "    inplace=True)\n",
    "isg_proj.head()"
   ]
  },
  {
   "cell_type": "code",
   "execution_count": 7,
   "metadata": {},
   "outputs": [
    {
     "data": {
      "text/html": [
       "<div>\n",
       "<style scoped>\n",
       "    .dataframe tbody tr th:only-of-type {\n",
       "        vertical-align: middle;\n",
       "    }\n",
       "\n",
       "    .dataframe tbody tr th {\n",
       "        vertical-align: top;\n",
       "    }\n",
       "\n",
       "    .dataframe thead th {\n",
       "        text-align: right;\n",
       "    }\n",
       "</style>\n",
       "<table border=\"1\" class=\"dataframe\">\n",
       "  <thead>\n",
       "    <tr style=\"text-align: right;\">\n",
       "      <th></th>\n",
       "      <th>ISG_LV3_prj</th>\n",
       "      <th>ISG_LV5_prj</th>\n",
       "      <th>ISG_LV6_prj</th>\n",
       "      <th>ISG_LV10_prj</th>\n",
       "    </tr>\n",
       "  </thead>\n",
       "  <tbody>\n",
       "    <tr>\n",
       "      <th>20_0149-T00</th>\n",
       "      <td>-0.270440</td>\n",
       "      <td>0.052239</td>\n",
       "      <td>-0.171728</td>\n",
       "      <td>-0.132161</td>\n",
       "    </tr>\n",
       "    <tr>\n",
       "      <th>20_0150-T00</th>\n",
       "      <td>-0.097068</td>\n",
       "      <td>-0.124132</td>\n",
       "      <td>-0.118177</td>\n",
       "      <td>-0.133618</td>\n",
       "    </tr>\n",
       "    <tr>\n",
       "      <th>20_0151-T00</th>\n",
       "      <td>-0.453541</td>\n",
       "      <td>0.128960</td>\n",
       "      <td>-0.210942</td>\n",
       "      <td>-0.061637</td>\n",
       "    </tr>\n",
       "    <tr>\n",
       "      <th>20_0152-T00</th>\n",
       "      <td>-0.560003</td>\n",
       "      <td>0.389627</td>\n",
       "      <td>-0.058505</td>\n",
       "      <td>-0.072572</td>\n",
       "    </tr>\n",
       "    <tr>\n",
       "      <th>20_0152-T28</th>\n",
       "      <td>-0.408899</td>\n",
       "      <td>0.012636</td>\n",
       "      <td>-0.183832</td>\n",
       "      <td>-0.113562</td>\n",
       "    </tr>\n",
       "    <tr>\n",
       "      <th>...</th>\n",
       "      <td>...</td>\n",
       "      <td>...</td>\n",
       "      <td>...</td>\n",
       "      <td>...</td>\n",
       "    </tr>\n",
       "    <tr>\n",
       "      <th>20_3381-T00</th>\n",
       "      <td>-0.068408</td>\n",
       "      <td>0.016921</td>\n",
       "      <td>-0.478191</td>\n",
       "      <td>-0.116673</td>\n",
       "    </tr>\n",
       "    <tr>\n",
       "      <th>20_3381-T07</th>\n",
       "      <td>-0.348739</td>\n",
       "      <td>0.028146</td>\n",
       "      <td>-0.153701</td>\n",
       "      <td>-0.109734</td>\n",
       "    </tr>\n",
       "    <tr>\n",
       "      <th>20_3381-T10</th>\n",
       "      <td>-0.432604</td>\n",
       "      <td>0.092774</td>\n",
       "      <td>-0.180053</td>\n",
       "      <td>-0.118090</td>\n",
       "    </tr>\n",
       "    <tr>\n",
       "      <th>20_3381-T14</th>\n",
       "      <td>-0.358612</td>\n",
       "      <td>-0.002481</td>\n",
       "      <td>-0.174159</td>\n",
       "      <td>-0.128955</td>\n",
       "    </tr>\n",
       "    <tr>\n",
       "      <th>20_3381-T56</th>\n",
       "      <td>0.004924</td>\n",
       "      <td>0.229847</td>\n",
       "      <td>-0.087641</td>\n",
       "      <td>-0.154942</td>\n",
       "    </tr>\n",
       "  </tbody>\n",
       "</table>\n",
       "<p>1324 rows × 4 columns</p>\n",
       "</div>"
      ],
      "text/plain": [
       "             ISG_LV3_prj  ISG_LV5_prj  ISG_LV6_prj  ISG_LV10_prj\n",
       "20_0149-T00    -0.270440     0.052239    -0.171728     -0.132161\n",
       "20_0150-T00    -0.097068    -0.124132    -0.118177     -0.133618\n",
       "20_0151-T00    -0.453541     0.128960    -0.210942     -0.061637\n",
       "20_0152-T00    -0.560003     0.389627    -0.058505     -0.072572\n",
       "20_0152-T28    -0.408899     0.012636    -0.183832     -0.113562\n",
       "...                  ...          ...          ...           ...\n",
       "20_3381-T00    -0.068408     0.016921    -0.478191     -0.116673\n",
       "20_3381-T07    -0.348739     0.028146    -0.153701     -0.109734\n",
       "20_3381-T10    -0.432604     0.092774    -0.180053     -0.118090\n",
       "20_3381-T14    -0.358612    -0.002481    -0.174159     -0.128955\n",
       "20_3381-T56     0.004924     0.229847    -0.087641     -0.154942\n",
       "\n",
       "[1324 rows x 4 columns]"
      ]
     },
     "execution_count": 7,
     "metadata": {},
     "output_type": "execute_result"
    }
   ],
   "source": [
    "a=tpm_df.loc[isg_proj.index].transpose().apply(ss.zscore)\n",
    "tot_isgs_lvs = pd.DataFrame(np.matmul(a.to_numpy(), isg_proj.to_numpy()), index=a.index, columns=isg_proj.columns)\n",
    "tot_isgs_lvs"
   ]
  },
  {
   "cell_type": "code",
   "execution_count": 8,
   "metadata": {},
   "outputs": [
    {
     "name": "stderr",
     "output_type": "stream",
     "text": [
      "/mnt/home/zzhang/workspace/programs/anaconda3/envs/rna-seq/lib/python3.6/site-packages/seaborn/_decorators.py:43: FutureWarning: Pass the following variables as keyword args: x, y. From version 0.12, the only valid positional argument will be `data`, and passing other arguments without an explicit keyword will result in an error or misinterpretation.\n",
      "  FutureWarning\n"
     ]
    },
    {
     "data": {
      "text/plain": [
       "(0.8311123576844477, 1.059409113148809e-90)"
      ]
     },
     "execution_count": 8,
     "metadata": {},
     "output_type": "execute_result"
    },
    {
     "data": {
      "image/png": "[encoded data removed]",
      "text/plain": [
       "<Figure size 432x288 with 1 Axes>"
      ]
     },
     "metadata": {
      "needs_background": "light"
     },
     "output_type": "display_data"
    }
   ],
   "source": [
    "# check if projected values are the same as before\n",
    "a = tot_isgs_lvs.join(isg_lvs)\n",
    "ax = sns.scatterplot(\n",
    "    a['ISG_LV6_prj'],\n",
    "    a['ISG_LV6']\n",
    ")\n",
    "_min, _max = np.nanmin([a['ISG_LV6_prj'], a['ISG_LV6']]), np.nanmax([a['ISG_LV6_prj'], a['ISG_LV6']])\n",
    "ax.set_xlim(_min, _max)\n",
    "ax.set_ylim(_min, _max)\n",
    "ax.plot([0, 1], [0, 1], transform=ax.transAxes, ls='--', color='black')\n",
    "\n",
    "ss.pearsonr(a.dropna()['ISG_LV6_prj'],\n",
    "    a.dropna()['ISG_LV6'])"
   ]
  },
  {
   "cell_type": "code",
   "execution_count": 9,
   "metadata": {},
   "outputs": [
    {
     "name": "stderr",
     "output_type": "stream",
     "text": [
      "/mnt/home/zzhang/workspace/programs/anaconda3/envs/rna-seq/lib/python3.6/site-packages/seaborn/_decorators.py:43: FutureWarning: Pass the following variables as keyword args: x, y. From version 0.12, the only valid positional argument will be `data`, and passing other arguments without an explicit keyword will result in an error or misinterpretation.\n",
      "  FutureWarning\n"
     ]
    },
    {
     "data": {
      "text/plain": [
       "(0.9532770580990635, 5.529118440247892e-183)"
      ]
     },
     "execution_count": 9,
     "metadata": {},
     "output_type": "execute_result"
    },
    {
     "data": {
      "image/png": "[encoded data removed]",
      "text/plain": [
       "<Figure size 432x288 with 1 Axes>"
      ]
     },
     "metadata": {
      "needs_background": "light"
     },
     "output_type": "display_data"
    }
   ],
   "source": [
    "ax = sns.scatterplot(\n",
    "    a['ISG_LV3_prj'],\n",
    "    a['ISG_LV3']\n",
    ")\n",
    "_min, _max = np.nanmin([a['ISG_LV3_prj'], a['ISG_LV3']]), np.nanmax([a['ISG_LV3_prj'], a['ISG_LV3']])\n",
    "ax.set_xlim(_min, _max)\n",
    "ax.set_ylim(_min, _max)\n",
    "ax.plot([0, 1], [0, 1], transform=ax.transAxes, ls='--', color='black')\n",
    "\n",
    "ss.pearsonr(a.dropna()['ISG_LV3_prj'],\n",
    "    a.dropna()['ISG_LV3'])"
   ]
  },
  {
   "cell_type": "code",
   "execution_count": 10,
   "metadata": {},
   "outputs": [
    {
     "name": "stdout",
     "output_type": "stream",
     "text": [
      "361\n",
      "(361, 1324)\n"
     ]
    }
   ],
   "source": [
    "if enable_compilation is True:\n",
    "    # Complete ISG genes, n=361\n",
    "    IFN_GENES = pd.read_table('data/Schoggins_ISGs_tweakgenenames.20210616.fromNatalie.txt', header=None)\n",
    "    # Representative ISG genes, n=33\n",
    "    #IFN_GENES = pd.read_table('data/isgs_diffatcontrol_selectedbyIrene.txt', header=None)\n",
    "    IFN_GENES = IFN_GENES[0].to_list()\n",
    "    print(len(IFN_GENES))\n",
    "    if enable_all_genes is False:\n",
    "        tpm_df = tpm_df.loc[IFN_GENES]\n",
    "        print(tpm_df.shape)\n",
    "else:\n",
    "    print('skipped')"
   ]
  },
  {
   "cell_type": "code",
   "execution_count": 11,
   "metadata": {},
   "outputs": [
    {
     "name": "stdout",
     "output_type": "stream",
     "text": [
      "sero pos\n",
      "M    2629\n",
      "F     233\n",
      "Name: Sex, dtype: int64\n"
     ]
    }
   ],
   "source": [
    "if enable_compilation is True:\n",
    "    meta = pd.read_csv('./data/charm_master.V9.tsv', index_col=0, sep=\"\\t\", low_memory=False)\n",
    "    meta = meta[meta.final.isin(('Control', 'First', 'Mid'))]\n",
    "    meta['sid'] = meta.index\n",
    "\n",
    "    # add CTavg\n",
    "    meta['CTavg'] = meta.apply(lambda x: x[['Nm.N.gene', 'Nm.S.gene', 'Nm.ORF1ab']].mean(), axis=1)\n",
    "\n",
    "    # drop cols\n",
    "    meta = meta[['sid', 'pid', 'tp', 'final', 'Age', 'Sex', 'CTavg', 'Symptom']]\n",
    "\n",
    "    # add CD45 PSI\n",
    "    jct_psi_df = pd.read_table('./data-V9/matrix/SE-JCT.txt', index_col=0)\n",
    "    # there was a sample id/fastq filename swap between v7 -> v8/9\n",
    "    # hence, I will use 20_0634-T56 to overwrite 20_0630-T56\n",
    "    # zzjfrank, Aug 19, 2021\n",
    "    jct_psi_df['20_0630-T56'] = jct_psi_df['20_0634-T56']\n",
    "    meta['PSI_CD45RBC'] = [jct_psi_df.loc['chr1:+:198699704:198702386:198702530:198703297', sid] if sid in jct_psi_df.columns else np.nan for sid in meta.index]\n",
    "\n",
    "    # replace asymp\n",
    "    meta['Symptom'].replace({np.nan: 'asymp'}, inplace=True)\n",
    "\n",
    "\n",
    "    # filter out sero-pos\n",
    "    sero_pos = pd.read_table('./data-V9/merged_seropos.20210814.txt', index_col=0)\n",
    "    #sero_pos['pid'] = [int(x.split('_')[1]) for x in sero_pos.iloc[:, 0]]\n",
    "    print('sero pos')\n",
    "    print(meta[meta.pid.isin(sero_pos.query('fz_label==\"keep\"').pid)][['pid','Sex']].drop_duplicates()['Sex'].value_counts())\n",
    "    meta = meta[meta.pid.isin(sero_pos.query('fz_label==\"keep\"').pid)]\n",
    "    \n",
    "else:\n",
    "    print('skipped')"
   ]
  },
  {
   "cell_type": "code",
   "execution_count": 12,
   "metadata": {},
   "outputs": [
    {
     "name": "stdout",
     "output_type": "stream",
     "text": [
      "Mids w/o first: 0 / 1152\n",
      "(2313, 18) (10658, 17)\n"
     ]
    },
    {
     "name": "stderr",
     "output_type": "stream",
     "text": [
      "/mnt/home/zzhang/workspace/programs/anaconda3/envs/rna-seq/lib/python3.6/site-packages/ipykernel_launcher.py:18: SettingWithCopyWarning: \n",
      "A value is trying to be set on a copy of a slice from a DataFrame.\n",
      "Try using .loc[row_indexer,col_indexer] = value instead\n",
      "\n",
      "See the caveats in the documentation: https://pandas.pydata.org/pandas-docs/stable/user_guide/indexing.html#returning-a-view-versus-a-copy\n",
      "/mnt/home/zzhang/workspace/programs/anaconda3/envs/rna-seq/lib/python3.6/site-packages/ipykernel_launcher.py:19: SettingWithCopyWarning: \n",
      "A value is trying to be set on a copy of a slice from a DataFrame.\n",
      "Try using .loc[row_indexer,col_indexer] = value instead\n",
      "\n",
      "See the caveats in the documentation: https://pandas.pydata.org/pandas-docs/stable/user_guide/indexing.html#returning-a-view-versus-a-copy\n"
     ]
    }
   ],
   "source": [
    "if enable_compilation is True:\n",
    "    # add gene TPM\n",
    "    tpm_df_ = tpm_df.loc[:, meta[meta.index.isin(tpm_df)].index].transpose()\n",
    "    plier_df_ = plier_df.loc[:, meta[meta.index.isin(plier_df)].index].transpose()\n",
    "\n",
    "    isg_lvs_ = isg_lvs.loc[meta[meta.index.isin(isg_lvs.index)].index]\n",
    "    tot_isgs_lvs_ = tot_isgs_lvs.loc[meta[meta.index.isin(tot_isgs_lvs.index)].index]\n",
    "    \n",
    "    # More molecular features can be added here.\n",
    "    #meta_ = pd.concat([meta, tpm_df_, plier_df_, tot_isgs_lvs_], axis=1)\n",
    "    meta_ = pd.concat([meta, tot_isgs_lvs_], axis=1)\n",
    "    \n",
    "    meta_ = meta_.join(isg_lvs_)\n",
    "    \n",
    "    # extract first and control\n",
    "    infect_data = meta_.query('final==\"First\" or final==\"Mid\"')\n",
    "    # compute days since infect\n",
    "    infect_data['days_since_infect'] = infect_data.groupby('pid')['tp'].transform('min')\n",
    "    infect_data['days_since_infect'] = infect_data['tp'] - infect_data['days_since_infect']\n",
    "\n",
    "    infect_data.index = infect_data.pid\n",
    "    ctrl_data = meta_.query('final==\"Control\"')\n",
    "\n",
    "    # get number of mids missing first\n",
    "    print('Mids w/o first: %i / %i' % (\n",
    "        infect_data.query('final==\"Mid\" and days_since_infect==0').shape[0],\n",
    "        infect_data.query('final==\"Mid\"').shape[0]\n",
    "    ))\n",
    "    \n",
    "    print(infect_data.shape, ctrl_data.shape)\n",
    "else:\n",
    "    print('skipped')"
   ]
  },
  {
   "cell_type": "code",
   "execution_count": 13,
   "metadata": {},
   "outputs": [],
   "source": [
    "if enable_compilation is True:\n",
    "    # average multiple samples for each subject if applicable\n",
    "    baseline_exps = {pid: x.iloc[:, 7:].mean() for pid, x in ctrl_data.groupby('pid')}\n",
    "    baseline_exps_df = pd.DataFrame.from_dict(baseline_exps).transpose()\n",
    "    baseline_exps_df.rename(columns={g:'base_%s'%g for g in baseline_exps_df.columns}, inplace=True)\n",
    "else:\n",
    "    print('skipped')"
   ]
  },
  {
   "cell_type": "code",
   "execution_count": 14,
   "metadata": {},
   "outputs": [
    {
     "data": {
      "text/html": [
       "<div>\n",
       "<style scoped>\n",
       "    .dataframe tbody tr th:only-of-type {\n",
       "        vertical-align: middle;\n",
       "    }\n",
       "\n",
       "    .dataframe tbody tr th {\n",
       "        vertical-align: top;\n",
       "    }\n",
       "\n",
       "    .dataframe thead th {\n",
       "        text-align: right;\n",
       "    }\n",
       "</style>\n",
       "<table border=\"1\" class=\"dataframe\">\n",
       "  <thead>\n",
       "    <tr style=\"text-align: right;\">\n",
       "      <th></th>\n",
       "      <th>base_PSI_CD45RBC</th>\n",
       "      <th>base_ISG_LV3_prj</th>\n",
       "      <th>base_ISG_LV5_prj</th>\n",
       "      <th>base_ISG_LV6_prj</th>\n",
       "      <th>base_ISG_LV10_prj</th>\n",
       "      <th>base_ISG_LV3</th>\n",
       "      <th>base_ISG_LV5</th>\n",
       "      <th>base_ISG_LV6</th>\n",
       "      <th>base_ISG_LV10</th>\n",
       "    </tr>\n",
       "  </thead>\n",
       "  <tbody>\n",
       "    <tr>\n",
       "      <th>149</th>\n",
       "      <td>0.412</td>\n",
       "      <td>-0.270440</td>\n",
       "      <td>0.052239</td>\n",
       "      <td>-0.171728</td>\n",
       "      <td>-0.132161</td>\n",
       "      <td>-0.563513</td>\n",
       "      <td>0.144323</td>\n",
       "      <td>-0.089108</td>\n",
       "      <td>-0.083181</td>\n",
       "    </tr>\n",
       "    <tr>\n",
       "      <th>150</th>\n",
       "      <td>0.264</td>\n",
       "      <td>-0.097068</td>\n",
       "      <td>-0.124132</td>\n",
       "      <td>-0.118177</td>\n",
       "      <td>-0.133618</td>\n",
       "      <td>-0.106691</td>\n",
       "      <td>-0.136620</td>\n",
       "      <td>-0.014396</td>\n",
       "      <td>0.058888</td>\n",
       "    </tr>\n",
       "    <tr>\n",
       "      <th>151</th>\n",
       "      <td>0.531</td>\n",
       "      <td>-0.453541</td>\n",
       "      <td>0.128960</td>\n",
       "      <td>-0.210942</td>\n",
       "      <td>-0.061637</td>\n",
       "      <td>-0.628735</td>\n",
       "      <td>0.154666</td>\n",
       "      <td>-0.163091</td>\n",
       "      <td>0.155979</td>\n",
       "    </tr>\n",
       "    <tr>\n",
       "      <th>152</th>\n",
       "      <td>0.301</td>\n",
       "      <td>-0.484451</td>\n",
       "      <td>0.201131</td>\n",
       "      <td>-0.121169</td>\n",
       "      <td>-0.093067</td>\n",
       "      <td>-0.756253</td>\n",
       "      <td>0.070571</td>\n",
       "      <td>-0.205008</td>\n",
       "      <td>-0.073074</td>\n",
       "    </tr>\n",
       "    <tr>\n",
       "      <th>153</th>\n",
       "      <td>0.324</td>\n",
       "      <td>-0.490766</td>\n",
       "      <td>0.343728</td>\n",
       "      <td>-0.215373</td>\n",
       "      <td>-0.116855</td>\n",
       "      <td>-0.647202</td>\n",
       "      <td>0.259455</td>\n",
       "      <td>-0.414499</td>\n",
       "      <td>-0.244847</td>\n",
       "    </tr>\n",
       "  </tbody>\n",
       "</table>\n",
       "</div>"
      ],
      "text/plain": [
       "     base_PSI_CD45RBC  base_ISG_LV3_prj  base_ISG_LV5_prj  base_ISG_LV6_prj  \\\n",
       "149             0.412         -0.270440          0.052239         -0.171728   \n",
       "150             0.264         -0.097068         -0.124132         -0.118177   \n",
       "151             0.531         -0.453541          0.128960         -0.210942   \n",
       "152             0.301         -0.484451          0.201131         -0.121169   \n",
       "153             0.324         -0.490766          0.343728         -0.215373   \n",
       "\n",
       "     base_ISG_LV10_prj  base_ISG_LV3  base_ISG_LV5  base_ISG_LV6  \\\n",
       "149          -0.132161     -0.563513      0.144323     -0.089108   \n",
       "150          -0.133618     -0.106691     -0.136620     -0.014396   \n",
       "151          -0.061637     -0.628735      0.154666     -0.163091   \n",
       "152          -0.093067     -0.756253      0.070571     -0.205008   \n",
       "153          -0.116855     -0.647202      0.259455     -0.414499   \n",
       "\n",
       "     base_ISG_LV10  \n",
       "149      -0.083181  \n",
       "150       0.058888  \n",
       "151       0.155979  \n",
       "152      -0.073074  \n",
       "153      -0.244847  "
      ]
     },
     "execution_count": 14,
     "metadata": {},
     "output_type": "execute_result"
    }
   ],
   "source": [
    "baseline_exps_df.head()"
   ]
  },
  {
   "cell_type": "code",
   "execution_count": 15,
   "metadata": {},
   "outputs": [
    {
     "name": "stdout",
     "output_type": "stream",
     "text": [
      "(2313, 18)\n",
      "(2313, 27)\n",
      "(2183, 27)\n"
     ]
    }
   ],
   "source": [
    "if enable_compilation is True:\n",
    "    # only keep data with control\n",
    "    #infect_data = infect_data[infect_data['pid'].isin(baseline_exps_df.index)]\n",
    "    print(infect_data.shape)\n",
    "\n",
    "    # match baseline gene exp\n",
    "    infect_data = infect_data.join(baseline_exps_df)\n",
    "    print(infect_data.shape)\n",
    "\n",
    "    # keep only first with valid control values\n",
    "    #infect_data = infect_data.loc[infect_data['base_IFITM1'].notna() & infect_data['CTavg'].notna()]\n",
    "    infect_data = infect_data.loc[infect_data['CTavg'].notna()]\n",
    "    print(infect_data.shape)\n",
    "else:\n",
    "    print('skipped')"
   ]
  },
  {
   "cell_type": "code",
   "execution_count": 16,
   "metadata": {},
   "outputs": [],
   "source": [
    "if enable_compilation is True:\n",
    "    # add delta PSI\n",
    "    infect_data['delta_PSI_CD45RBC'] = infect_data['PSI_CD45RBC'] - infect_data['base_PSI_CD45RBC']\n",
    "else:\n",
    "    print('skipped')"
   ]
  },
  {
   "cell_type": "code",
   "execution_count": 17,
   "metadata": {},
   "outputs": [
    {
     "name": "stdout",
     "output_type": "stream",
     "text": [
      "unmatched symp n=1\n",
      "unmatched symp n=1\n",
      "unmatched symp n=1\n",
      "unmatched symp n=1\n",
      "unmatched symp n=1\n",
      "unmatched symp n=1\n",
      "unmatched symp n=1\n",
      "unmatched symp n=1\n",
      "unmatched symp n=1\n",
      "unmatched symp n=1\n",
      "unmatched symp n=1\n",
      "unmatched symp n=1\n",
      "unmatched symp n=1\n",
      "unmatched symp n=1\n",
      "unmatched symp n=1\n",
      "unmatched symp n=1\n",
      "first  (1142, 44)\n",
      "mid  (1041, 44)\n"
     ]
    }
   ],
   "source": [
    "if enable_compilation is True:\n",
    "    # make a dummy variable/ one-hot encoded symptoms vector\n",
    "    symp_vec = sorted(list(set([y for x in infect_data['Symptom'].unique() for y in x.split(';') if y!='other_spec' ])))\n",
    "    symp_vec = {x:i for i,x in enumerate(symp_vec)}\n",
    "\n",
    "    def symp_to_vec(symp_str, symp_vec):\n",
    "        vec = np.zeros(len(symp_vec))\n",
    "        n_unmatched = 0\n",
    "        for s in symp_str.split(';'):\n",
    "            if s in symp_vec:\n",
    "                vec[symp_vec[s]] = 1\n",
    "            else:\n",
    "                n_unmatched += 1\n",
    "        if n_unmatched > 0:\n",
    "            print('unmatched symp n=%i' % n_unmatched)\n",
    "        return vec\n",
    "\n",
    "    symp_arr = []\n",
    "    infect_data.index = infect_data.sid\n",
    "    for sid in infect_data.index:\n",
    "        symp_arr.append(symp_to_vec(infect_data.loc[sid, 'Symptom'], symp_vec))\n",
    "\n",
    "    symp_mat = np.vstack(symp_arr)\n",
    "    for symp, symp_idx in symp_vec.items():\n",
    "        infect_data[symp] = symp_mat[:, symp_idx]\n",
    "    \n",
    "    # compute number of symps - need to remove asymp dummy variable\n",
    "    infect_data['num_symps'] = np.sum(np.delete(symp_mat, symp_vec['asymp'], axis=1), axis=1)\n",
    "    \n",
    "    print('first ', infect_data.query('final==\"First\"').shape)\n",
    "    print('mid ', infect_data.query('final==\"Mid\"').shape)\n",
    "    infect_data.to_csv('%s/first_mid_data.txt'%WD, sep=\"\\t\") \n",
    "else:\n",
    "    print('skipped')"
   ]
  },
  {
   "cell_type": "code",
   "execution_count": 18,
   "metadata": {
    "scrolled": false
   },
   "outputs": [
    {
     "name": "stdout",
     "output_type": "stream",
     "text": [
      "(2183, 38)\n"
     ]
    }
   ],
   "source": [
    "if enable_compilation is True:\n",
    "    # prepare for R processing\n",
    "    symp_df = infect_data\n",
    "    symp_df['is_female'] = [1 if x=='F' else 0 for x in symp_df['Sex']]\n",
    "\n",
    "    TARGET_NODES = {\n",
    "        'base_ISG_LVs': ['base_ISG_LV%i'%i for i in (3,5,6,10)],\n",
    "        'base_ISG_LVs_prj': ['base_ISG_LV%i_prj'%i for i in (3,5,6,10)],\n",
    "        'ISG_LVs_prj': ['ISG_LV%i_prj'%i for i in (3,5,6,10)],\n",
    "        'CD45': ['PSI_CD45RBC', 'delta_PSI_CD45RBC'],\n",
    "        'Symptom': ['asymp', 'abd', 'chill', 'cough', 'diarr', 'fatigue', 'fvr', 'headache',\n",
    "                    'msk', 'nv', 'rn_nose', 'sob', 'subj_fvr', 'taste', 'throat',\n",
    "                    'num_symps'\n",
    "                   ],\n",
    "        'CTavg': ['CTavg'],\n",
    "        'covariates': ['days_since_infect']\n",
    "    }\n",
    "\n",
    "\n",
    "    # drop un-used cols\n",
    "    cols_to_keep = [\n",
    "        'sid', 'pid', 'final', 'Age', 'Sex', 'is_female',\n",
    "    ] \n",
    "    #cols_to_keep += plier_df.index.to_list()\n",
    "    #cols_to_keep += ['base_%s'%x for x in plier_df.index.to_list()]\n",
    "    cols_to_keep += list([x for v in TARGET_NODES.values() for x in v])\n",
    "    cma_df = symp_df[cols_to_keep]\n",
    "    cma_df.to_csv('%s/first_mid.forCMA.txt'%WD, sep=\"\\t\", index=False)\n",
    "    print(cma_df.shape)\n",
    "else:\n",
    "    print('skipped')"
   ]
  },
  {
   "cell_type": "code",
   "execution_count": 19,
   "metadata": {},
   "outputs": [],
   "source": [
    "if enable_compilation is False:\n",
    "    first_data = pd.read_csv('%s/first_mid_data.txt'%WD, sep=\"\\t\", index_col=0) "
   ]
  },
  {
   "cell_type": "code",
   "execution_count": 20,
   "metadata": {},
   "outputs": [],
   "source": [
    "mid_data = cma_df.query('final==\"Mid\"')\n",
    "first_data = cma_df.query('final==\"First\"')"
   ]
  },
  {
   "cell_type": "code",
   "execution_count": 21,
   "metadata": {},
   "outputs": [
    {
     "data": {
      "text/plain": [
       "Sex\n",
       "M    193\n",
       "F     25\n",
       "dtype: int64"
      ]
     },
     "execution_count": 21,
     "metadata": {},
     "output_type": "execute_result"
    }
   ],
   "source": [
    "infect_data[infect_data['base_ISG_LV10_prj'].notna()].query('final==\"First\"').value_counts('Sex')\n",
    "#cma_df[cma_df['base_ISG_LV3_prj'].notna()].query('final==\"First\"').value_counts('Sex')"
   ]
  },
  {
   "cell_type": "markdown",
   "metadata": {},
   "source": [
    "# Model Fit"
   ]
  },
  {
   "cell_type": "code",
   "execution_count": 22,
   "metadata": {},
   "outputs": [],
   "source": [
    "FEATURE_GENES = [\n",
    "    'ISG_LV%i'%i for i in (3,5,6,10)\n",
    "]"
   ]
  },
  {
   "cell_type": "code",
   "execution_count": 23,
   "metadata": {},
   "outputs": [
    {
     "data": {
      "text/plain": [
       "sid\n",
       "20_0149-T42   -0.270440\n",
       "20_0152-T53   -0.484451\n",
       "20_0155-T42   -0.673130\n",
       "20_0156-T42   -0.370148\n",
       "20_0157-T42   -0.127467\n",
       "                 ...   \n",
       "20_3468-T56         NaN\n",
       "20_3471-T42         NaN\n",
       "20_3472-T42         NaN\n",
       "20_3474-T42         NaN\n",
       "20_3475-T56         NaN\n",
       "Name: base_ISG_LV3_prj, Length: 1142, dtype: float64"
      ]
     },
     "execution_count": 23,
     "metadata": {},
     "output_type": "execute_result"
    }
   ],
   "source": [
    "first_data['base_ISG_LV3_prj']"
   ]
  },
  {
   "cell_type": "code",
   "execution_count": 24,
   "metadata": {},
   "outputs": [],
   "source": [
    "# fit a model w/o held-out\n",
    "base_learner2 = LinearRegression()\n",
    "\n",
    "data = first_data[['CTavg', 'Sex']+['base_%s'%g for g in FEATURE_GENES]].dropna()\n",
    "fit_preds = base_learner2.fit(\n",
    "    X=data[['base_%s'%g for g in FEATURE_GENES]], \n",
    "    y=data['CTavg']).predict(data[['base_%s'%g for g in FEATURE_GENES]])"
   ]
  },
  {
   "cell_type": "code",
   "execution_count": 25,
   "metadata": {},
   "outputs": [
    {
     "data": {
      "text/html": [
       "<div>\n",
       "<style scoped>\n",
       "    .dataframe tbody tr th:only-of-type {\n",
       "        vertical-align: middle;\n",
       "    }\n",
       "\n",
       "    .dataframe tbody tr th {\n",
       "        vertical-align: top;\n",
       "    }\n",
       "\n",
       "    .dataframe thead th {\n",
       "        text-align: right;\n",
       "    }\n",
       "</style>\n",
       "<table border=\"1\" class=\"dataframe\">\n",
       "  <thead>\n",
       "    <tr style=\"text-align: right;\">\n",
       "      <th></th>\n",
       "      <th>0</th>\n",
       "    </tr>\n",
       "  </thead>\n",
       "  <tbody>\n",
       "    <tr>\n",
       "      <th>base_ISG_LV3</th>\n",
       "      <td>-0.046311</td>\n",
       "    </tr>\n",
       "    <tr>\n",
       "      <th>base_ISG_LV5</th>\n",
       "      <td>-0.000877</td>\n",
       "    </tr>\n",
       "    <tr>\n",
       "      <th>base_ISG_LV6</th>\n",
       "      <td>-0.123662</td>\n",
       "    </tr>\n",
       "    <tr>\n",
       "      <th>base_ISG_LV10</th>\n",
       "      <td>-0.015303</td>\n",
       "    </tr>\n",
       "  </tbody>\n",
       "</table>\n",
       "</div>"
      ],
      "text/plain": [
       "                      0\n",
       "base_ISG_LV3  -0.046311\n",
       "base_ISG_LV5  -0.000877\n",
       "base_ISG_LV6  -0.123662\n",
       "base_ISG_LV10 -0.015303"
      ]
     },
     "execution_count": 25,
     "metadata": {},
     "output_type": "execute_result"
    }
   ],
   "source": [
    "norm_eff = pd.DataFrame(base_learner2.coef_ * np.array(first_data[['base_%s'%g for g in FEATURE_GENES]].mean().to_list()),\n",
    "                        index=['base_%s'%g for g in FEATURE_GENES])\n",
    "norm_eff"
   ]
  },
  {
   "cell_type": "code",
   "execution_count": 26,
   "metadata": {},
   "outputs": [
    {
     "data": {
      "text/plain": [
       "Text(0.5, 0, 'Obs CT')"
      ]
     },
     "execution_count": 26,
     "metadata": {},
     "output_type": "execute_result"
    },
    {
     "data": {
      "image/png": "[encoded data removed]",
      "text/plain": [
       "<Figure size 432x288 with 1 Axes>"
      ]
     },
     "metadata": {
      "needs_background": "light"
     },
     "output_type": "display_data"
    }
   ],
   "source": [
    "ax = sns.scatterplot(\n",
    "    x='CTavg',\n",
    "    y=fit_preds,\n",
    "    hue='Sex',\n",
    "    data=data\n",
    ")\n",
    "fg_pcc = ss.pearsonr(fit_preds, data['CTavg'])\n",
    "ax.set_title(\n",
    "    'pearson cor=%.3f, p=%.3e' %  fg_pcc\n",
    ")\n",
    "ax.set_xlim(10, 40)\n",
    "ax.set_ylim(10, 40)\n",
    "ax.plot([0, 1], [0, 1], transform=ax.transAxes, ls='--', color='black')\n",
    "ax.legend(loc='upper left', bbox_to_anchor=(1,1.05))\n",
    "ax.set_ylabel('Fitted CT')\n",
    "ax.set_xlabel('Obs CT')"
   ]
  },
  {
   "cell_type": "code",
   "execution_count": 27,
   "metadata": {},
   "outputs": [
    {
     "data": {
      "text/plain": [
       "0.1841590305437427"
      ]
     },
     "execution_count": 27,
     "metadata": {},
     "output_type": "execute_result"
    }
   ],
   "source": [
    "def get_residual(fit_preds, first_data):\n",
    "    residuals = fit_preds - first_data['CTavg']\n",
    "    df = first_data.copy()\n",
    "    df['res'] = residuals\n",
    "    m = smf.ols('res~Sex', data=df).fit()\n",
    "    return m.pvalues['Sex[T.M]']\n",
    "\n",
    "fit_resid = get_residual(fit_preds, data)\n",
    "fit_resid"
   ]
  },
  {
   "cell_type": "markdown",
   "metadata": {},
   "source": [
    "# Model Pred"
   ]
  },
  {
   "cell_type": "code",
   "execution_count": 28,
   "metadata": {
    "scrolled": false
   },
   "outputs": [
    {
     "name": "stdout",
     "output_type": "stream",
     "text": [
      "['ISG_LV3', 'ISG_LV5', 'ISG_LV6', 'ISG_LV10']\n"
     ]
    }
   ],
   "source": [
    "#FEATURE_GENES = ['IFIH1', 'DDX58', 'IRF7', 'IFIT5', 'EIF2AK2', 'TRIM14', 'OASL', 'XAF1', 'USP18', 'LY6E', 'EPSTI1', 'PARP12', 'IFI44', 'IFI35', 'IFIT1', 'ISG15', 'IFI44L', 'PML', 'OAS2', 'TRIM5']\n",
    "print(FEATURE_GENES)\n",
    "\n",
    "#target = 'num_symps'\n",
    "#is_classification = False\n",
    "#base_learner = PoissonRegressor()\n",
    "#data = first_data[first_data[target].notna()][['base_%s'%g for g in FEATURE_GENES] + [target, 'Sex']].dropna()\n",
    "\n",
    "target = 'delta_PSI_CD45RBC'\n",
    "is_classification = False\n",
    "base_learner = LinearRegression() \n",
    "data = mid_data[mid_data[target].notna()]\n",
    "data = data.dropna()\n",
    "\n",
    "cv_preds = cross_val_predict(\n",
    "    base_learner, \n",
    "    X=data[['base_%s'%g for g in FEATURE_GENES]], \n",
    "    y=data[target],\n",
    "    cv=30 if is_classification else data.shape[0]\n",
    ")"
   ]
  },
  {
   "cell_type": "code",
   "execution_count": 29,
   "metadata": {
    "scrolled": false
   },
   "outputs": [
    {
     "data": {
      "text/plain": [
       "Text(0.5, 0, 'OBS')"
      ]
     },
     "execution_count": 29,
     "metadata": {},
     "output_type": "execute_result"
    },
    {
     "data": {
      "image/png": "[encoded data removed]",
      "text/plain": [
       "<Figure size 432x288 with 1 Axes>"
      ]
     },
     "metadata": {
      "needs_background": "light"
     },
     "output_type": "display_data"
    }
   ],
   "source": [
    "if is_classification:\n",
    "    ax = sns.swarmplot(\n",
    "        x=target,\n",
    "        y=cv_preds,\n",
    "        hue='Sex',\n",
    "        data=data\n",
    "    )\n",
    "else:\n",
    "    ax = sns.scatterplot(\n",
    "        x=target,\n",
    "        y=cv_preds,\n",
    "        hue='Sex',\n",
    "        data=data\n",
    "    )\n",
    "    ax.set_title(\n",
    "        'pearson cor=%.3f, p=%.3e' % ss.pearsonr(cv_preds, data[target])\n",
    "    )\n",
    "    _min, _max = np.min([cv_preds, data[target]]), np.max([cv_preds, data[target]])\n",
    "    ax.set_xlim(_min, _max)\n",
    "    ax.set_ylim(_min, _max)\n",
    "    ax.plot([0, 1], [0, 1], transform=ax.transAxes, ls='--', color='black')\n",
    "ax.legend(loc='upper left', bbox_to_anchor=(1,1.05))\n",
    "ax.set_ylabel('LOO prediction')\n",
    "ax.set_xlabel('OBS')"
   ]
  },
  {
   "cell_type": "markdown",
   "metadata": {},
   "source": [
    "# Misc"
   ]
  },
  {
   "cell_type": "code",
   "execution_count": 30,
   "metadata": {},
   "outputs": [
    {
     "name": "stderr",
     "output_type": "stream",
     "text": [
      "/mnt/home/zzhang/workspace/programs/anaconda3/envs/rna-seq/lib/python3.6/site-packages/ipykernel_launcher.py:4: SettingWithCopyWarning: \n",
      "A value is trying to be set on a copy of a slice from a DataFrame.\n",
      "Try using .loc[row_indexer,col_indexer] = value instead\n",
      "\n",
      "See the caveats in the documentation: https://pandas.pydata.org/pandas-docs/stable/user_guide/indexing.html#returning-a-view-versus-a-copy\n",
      "  after removing the cwd from sys.path.\n",
      "/mnt/home/zzhang/workspace/programs/anaconda3/envs/rna-seq/lib/python3.6/site-packages/ipykernel_launcher.py:5: SettingWithCopyWarning: \n",
      "A value is trying to be set on a copy of a slice from a DataFrame.\n",
      "Try using .loc[row_indexer,col_indexer] = value instead\n",
      "\n",
      "See the caveats in the documentation: https://pandas.pydata.org/pandas-docs/stable/user_guide/indexing.html#returning-a-view-versus-a-copy\n",
      "  \"\"\"\n",
      "/mnt/home/zzhang/workspace/programs/anaconda3/envs/rna-seq/lib/python3.6/site-packages/ipykernel_launcher.py:7: SettingWithCopyWarning: \n",
      "A value is trying to be set on a copy of a slice from a DataFrame.\n",
      "Try using .loc[row_indexer,col_indexer] = value instead\n",
      "\n",
      "See the caveats in the documentation: https://pandas.pydata.org/pandas-docs/stable/user_guide/indexing.html#returning-a-view-versus-a-copy\n",
      "  import sys\n"
     ]
    },
    {
     "data": {
      "text/plain": [
       "<matplotlib.axes._subplots.AxesSubplot at 0x1554b61628d0>"
      ]
     },
     "execution_count": 30,
     "metadata": {},
     "output_type": "execute_result"
    },
    {
     "data": {
      "image/png": "[encoded data removed]",
      "text/plain": [
       "<Figure size 432x288 with 1 Axes>"
      ]
     },
     "metadata": {
      "needs_background": "light"
     },
     "output_type": "display_data"
    }
   ],
   "source": [
    "# extract first and control\n",
    "all_infect = meta_.query('final==\"First\" or final==\"Mid\"')\n",
    "# compute days since infect\n",
    "all_infect['days_since_infect'] = all_infect.groupby('pid')['tp'].transform('min')\n",
    "all_infect['days_since_infect'] = all_infect['tp'] - all_infect['days_since_infect']\n",
    "\n",
    "all_infect['viral_load'] = 40 - all_infect['CTavg']\n",
    "all_infect.to_csv(f'{DATA_VER}/mediation_analysis/all_infect.txt', sep=\"\\t\", index=False)\n",
    "\n",
    "sns.scatterplot(x='days_since_infect', y='viral_load', hue='Sex', data=all_infect)"
   ]
  },
  {
   "cell_type": "code",
   "execution_count": 31,
   "metadata": {},
   "outputs": [
    {
     "name": "stdout",
     "output_type": "stream",
     "text": [
      "FINISH: 2021-08-20 14:09:01.575043\n"
     ]
    }
   ],
   "source": [
    "print(\"FINISH:\", datetime.now())"
   ]
  },
  {
   "cell_type": "code",
   "execution_count": null,
   "metadata": {},
   "outputs": [],
   "source": []
  },
  {
   "cell_type": "code",
   "execution_count": null,
   "metadata": {},
   "outputs": [],
   "source": []
  }
 ],
 "metadata": {
  "kernelspec": {
   "display_name": "Python 3",
   "language": "python",
   "name": "python3"
  },
  "language_info": {
   "codemirror_mode": {
    "name": "ipython",
    "version": 3
   },
   "file_extension": ".py",
   "mimetype": "text/x-python",
   "name": "python",
   "nbconvert_exporter": "python",
   "pygments_lexer": "ipython3",
   "version": "3.6.10"
  }
 },
 "nbformat": 4,
 "nbformat_minor": 4
}
